{
  "cells": [
    {
      "cell_type": "markdown",
      "metadata": {
        "colab_type": "text",
        "id": "view-in-github"
      },
      "source": [
        "<a href=\"https://colab.research.google.com/github/kytk/neuroimaging-elearning/blob/main/python/python_1-1_intro.ipynb\" target=\"_parent\"><img src=\"https://colab.research.google.com/assets/colab-badge.svg\" alt=\"Open In Colab\"/></a>"
      ]
    },
    {
      "cell_type": "markdown",
      "metadata": {
        "id": "jw3ke1Y2K_Ab"
      },
      "source": [
        "# 脳画像解析のためのPython入門(全5回): Part 5\n",
        "\n",
        "Ver.20230925"
      ]
    },
    {
      "cell_type": "markdown",
      "metadata": {
        "id": "2KftFTyuK_Ad"
      },
      "source": [
        "## 目次\n",
        "14. for文によるループ処理\n",
        "練習問題"
      ]
    },
    {
      "cell_type": "markdown",
      "metadata": {
        "id": "wLYaG8KrK_Ar"
      },
      "source": [
        "## 14. for文によるループ処理\n",
        "- Pythonでは様々な方法を使ってループ処理をすることができる\n",
        "    - range() 関数を使った一定回数の繰り返し\n",
        "    - リストを使ったリストの要素に対する繰り返し\n",
        "    - ディクショナリを使ったディクショナリの要素に対する繰り返し\n",
        "- 書式は以下\n",
        "\n",
        "```\n",
        "for 変数 in range/リスト/ディクショナリ:\n",
        "    ブロック文\n",
        "```"
      ]
    },
    {
      "cell_type": "code",
      "execution_count": null,
      "metadata": {
        "id": "gvKN_AiIK_As"
      },
      "outputs": [],
      "source": [
        "# range() 関数を使った一定回数の繰り返し\n",
        "# range(5) は 0,1,2,3,4 と同じ\n",
        "# f文字列を使うと、int型をstr型に変えるといった煩わしさがなくなる\n",
        "\n",
        "for i in range(5):\n",
        "    print(f'Hello World {i}')\n"
      ]
    },
    {
      "cell_type": "code",
      "execution_count": null,
      "metadata": {
        "id": "kJwn3qKwK_As"
      },
      "outputs": [],
      "source": [
        "# リストを使った繰り返し\n",
        "# テストの結果を リスト result に代入し、\n",
        "# 先程定義した display_grade(grading()) にループで代入する\n",
        "\n",
        "result = [95, 76, 56, 92, 62, 65, 74]\n",
        "\n",
        "for i in result:\n",
        "    display_grade(grading(i))"
      ]
    },
    {
      "cell_type": "code",
      "execution_count": null,
      "metadata": {
        "id": "v6akwRdvK_As"
      },
      "outputs": [],
      "source": [
        "# ディクショナリを使った繰り返し\n",
        "# 先程使った header の情報を出力する\n",
        "\n",
        "for key, value in header.items():\n",
        "    print(f'{key} is {value}')"
      ]
    },
    {
      "cell_type": "markdown",
      "metadata": {
        "id": "DWOKI9lWK_As"
      },
      "source": [
        "## 練習問題\n",
        "- あなたは摂食障害の患者さんの受け持ちになりました。毎週、BMIを計算して指導医に報告する必要があります。\n",
        "\n",
        "- 以下を行ってください。\n",
        "    - def を使って、身長(cm) と 体重(kg) が与えられた時に、BMIを算出する関数 calc_bmi を定義してください。\n",
        "        - return に b を指定してください\n",
        "        - BMI は 体重(kg) / (身長(m)の2乗) で求められます\n",
        "\n",
        "- input 関数を使って、身長を cm で入力させ、プログラムで m に変換させてください\n",
        "- 同様に input 関数を使って、体重を kg で入力させてください\n",
        "- 「BMIは ○○ です」と表示させてください\n"
      ]
    },
    {
      "cell_type": "code",
      "execution_count": null,
      "metadata": {
        "id": "qo-tXi94K_As"
      },
      "outputs": [],
      "source": [
        "# ヒント\n",
        "# 関数の定義\n",
        "#   def calc_bmi(ht,bw):  で、身長と体重からBMIを求める関数を定義します\n",
        "#   BMIを bmi とすると、bmi = bw / (ht ** 2) と表示されます\n",
        "#\n",
        "\n",
        "#### 以下に関数を3行で記載してください ####\n",
        "def\n",
        "\n",
        "\n",
        "#### 関数ここまで ##############\n",
        "\n",
        "\n",
        "# 以下で、身長と体重をキーボードから入力できるようにしてください\n",
        "ht = input()\n",
        "bw = input()\n",
        "\n",
        "# 以下で、ht と bw を str型からfloat型に変換し、htは cm → m に変換してください\n",
        "ht =\n",
        "bw =\n",
        "\n",
        "# 以下で、 bmi を算出し、BMIを表示してください。\n",
        "bmi =\n",
        "print()\n",
        "#################################\n",
        "\n",
        "\n",
        "# 正解例は ex_answer.ipynb を見てみてください"
      ]
    },
    {
      "cell_type": "markdown",
      "metadata": {
        "id": "-Jcdl-cB9Ex8"
      },
      "source": [
        "### 正解例\n",
        "```\n",
        "def calc_bmi(ht,bw):\n",
        "  b = bw / (ht ** 2)\n",
        "  return b\n",
        "```\n",
        "\n",
        "```\n",
        "ht = input('身長は(cm): ')\n",
        "bw = input('体重は(kg): ')\n",
        "\n",
        "ht = float(ht)/100\n",
        "bw = float(bw)\n",
        "\n",
        "bmi = calc_bmi(ht,bw)\n",
        "print(f'BMIは{bmi}です')\n",
        "```\n"
      ]
    },
    {
      "cell_type": "code",
      "execution_count": null,
      "metadata": {
        "id": "8BeYnBCP9y8S"
      },
      "outputs": [],
      "source": [
        "# 正解例\n",
        "\n",
        "#### 以下に関数を3行で記載してください ####\n",
        "def calc_bmi(ht,bw):\n",
        "  b = bw / (ht ** 2)\n",
        "  return b\n",
        "#### 関数ここまで ##############\n",
        "\n",
        "\n",
        "# 以下で、身長と体重をキーボードから入力できるようにしてください\n",
        "ht = input('身長は(cm): ')\n",
        "bw = input('体重は(kg): ')\n",
        "\n",
        "# 以下で、ht と bw を str型からfloat型に変換し、htは cm → m に変換してください\n",
        "ht = float(ht) / 100\n",
        "bw = float(bw)\n",
        "\n",
        "# 以下で、 bmi を算出し、BMIを表示してください。\n",
        "bmi = calc_bmi(ht,bw)\n",
        "print(f'BMIは{bmi}です')\n",
        "#################################\n"
      ]
    }
  ],
  "metadata": {
    "colab": {
      "include_colab_link": true,
      "provenance": []
    },
    "kernelspec": {
      "display_name": "Python 3 (ipykernel)",
      "language": "python",
      "name": "python3"
    },
    "language_info": {
      "codemirror_mode": {
        "name": "ipython",
        "version": 3
      },
      "file_extension": ".py",
      "mimetype": "text/x-python",
      "name": "python",
      "nbconvert_exporter": "python",
      "pygments_lexer": "ipython3",
      "version": "3.10.8"
    }
  },
  "nbformat": 4,
  "nbformat_minor": 0
}
