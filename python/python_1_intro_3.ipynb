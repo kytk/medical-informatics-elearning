{
  "cells": [
    {
      "cell_type": "markdown",
      "metadata": {
        "colab_type": "text",
        "id": "view-in-github"
      },
      "source": [
        "<a href=\"https://colab.research.google.com/github/kytk/neuroimaging-elearning/blob/main/python/python_1-1_intro.ipynb\" target=\"_parent\"><img src=\"https://colab.research.google.com/assets/colab-badge.svg\" alt=\"Open In Colab\"/></a>"
      ]
    },
    {
      "cell_type": "markdown",
      "metadata": {
        "id": "jw3ke1Y2K_Ab"
      },
      "source": [
        "# 脳画像解析のためのPython入門(全5回): Part 3\n",
        "\n",
        "Ver.20230925"
      ]
    },
    {
      "cell_type": "markdown",
      "metadata": {
        "id": "2KftFTyuK_Ad"
      },
      "source": [
        "## 目次\n",
        "9. タプル\n",
        "10. ディクショナリ\n",
        "11. ブーリアン\n"
      ]
    },
    {
      "cell_type": "markdown",
      "metadata": {
        "id": "EW3ksbTCK_Aq"
      },
      "source": [
        "## 9. タプル\n",
        "- タプルはリストとほとんど同じだがひとつ異なる\n",
        "- タプルはミュータブルではない。つまり、タプルの要素も、要素の数も変更不可能\n",
        "- 値を変更したくない場合などに有用\n",
        "- タプルは ( ) を使って記載する"
      ]
    },
    {
      "cell_type": "code",
      "execution_count": null,
      "metadata": {
        "id": "jx7xX9piK_Aq"
      },
      "outputs": [],
      "source": [
        "# 変数 a をタプルとして設定\n",
        "a = (1, 2, 3, 4, 5)"
      ]
    },
    {
      "cell_type": "code",
      "execution_count": null,
      "metadata": {
        "id": "Vz9dMPIGK_Aq"
      },
      "outputs": [],
      "source": [
        "# タプルはリストと同様、インデックスを指定して取り出せる\n",
        "# インデックスは [] で指定する\n",
        "a[0]"
      ]
    },
    {
      "cell_type": "code",
      "execution_count": null,
      "metadata": {
        "id": "g8ETp8X6K_Aq"
      },
      "outputs": [],
      "source": [
        "# タプルは要素の内容を変更できない\n",
        "# 以下はエラーとなる\n",
        "a[4] = 99"
      ]
    },
    {
      "cell_type": "markdown",
      "metadata": {
        "id": "uU4Wf4vOK_Aq"
      },
      "source": [
        "## 10. ディクショナリ\n",
        "- ディクショナリは「**キー**」と「**値**」をペアにしてデータを格納する\n",
        "- 値は数値だけでなく、文字列なども格納できる\n",
        "- ディクショナリは、{キー:値} のように代入する\n",
        "- `変数名['キー']` で値を取り出すことができる"
      ]
    },
    {
      "cell_type": "code",
      "execution_count": null,
      "metadata": {
        "id": "lvtjDY34K_Aq"
      },
      "outputs": [],
      "source": [
        "# オブジェクト header に TR=2000, TE=6.5 を登録する\n",
        "header = {'TR':2000, 'TE':6.5}"
      ]
    },
    {
      "cell_type": "code",
      "execution_count": null,
      "metadata": {
        "id": "mR_tRAOlK_Aq"
      },
      "outputs": [],
      "source": [
        "# 変数 header の型を type() 関数で確認する\n",
        "print(type(header))"
      ]
    },
    {
      "cell_type": "code",
      "execution_count": null,
      "metadata": {
        "id": "GQFd0Kv9K_Aq"
      },
      "outputs": [],
      "source": [
        "# キー TR の値を抽出する\n",
        "header['TR']"
      ]
    },
    {
      "cell_type": "code",
      "execution_count": null,
      "metadata": {
        "id": "OHRfTJX9K_Ar"
      },
      "outputs": [],
      "source": [
        "# キーと値のペアを追加する\n",
        "header['Manufacturer'] = 'Siemens'"
      ]
    },
    {
      "cell_type": "code",
      "execution_count": null,
      "metadata": {
        "id": "_GOehF-WK_Ar"
      },
      "outputs": [],
      "source": [
        "# 追加されたかどうかを確認する\n",
        "header"
      ]
    },
    {
      "cell_type": "code",
      "execution_count": null,
      "metadata": {
        "id": "cdLixyHhK_Ar"
      },
      "outputs": [],
      "source": [
        "# キーと値の一覧は、メソッド items() で取得できる\n",
        "header.items()"
      ]
    },
    {
      "cell_type": "code",
      "execution_count": null,
      "metadata": {
        "id": "ZGENhpaxK_Ar"
      },
      "outputs": [],
      "source": [
        "#キー一覧は、メソッド keys() で取得できる\n",
        "header.keys()"
      ]
    },
    {
      "cell_type": "code",
      "execution_count": null,
      "metadata": {
        "id": "TbJ5lWEwK_Ar"
      },
      "outputs": [],
      "source": [
        "#値一覧は、メソッド values() で取得できる\n",
        "header.values()"
      ]
    },
    {
      "cell_type": "markdown",
      "metadata": {
        "id": "aaZ-q2cgK_Ar"
      },
      "source": [
        "## 11. ブーリアン\n",
        "- ブーリアンは True と False をとる特殊な型。bool型と言われる\n",
        "- bool型は、and, or, not が使える"
      ]
    },
    {
      "cell_type": "code",
      "execution_count": null,
      "metadata": {
        "id": "63Yv2NQoK_Ar"
      },
      "outputs": [],
      "source": [
        "MRI = True   # MRIは撮像した\n",
        "SPECT = False  # SPECTは撮像していない"
      ]
    },
    {
      "cell_type": "code",
      "execution_count": null,
      "metadata": {
        "id": "Et2OkMgCK_Ar"
      },
      "outputs": [],
      "source": [
        "# 型は bool型\n",
        "print(type(MRI))"
      ]
    },
    {
      "cell_type": "code",
      "execution_count": null,
      "metadata": {
        "id": "3MtjvmYDLYmP"
      },
      "outputs": [],
      "source": [
        "print(MRI)"
      ]
    },
    {
      "cell_type": "code",
      "execution_count": null,
      "metadata": {
        "id": "F5lfJeB6K_Ar"
      },
      "outputs": [],
      "source": [
        "# True の反対は False\n",
        "print(not MRI)"
      ]
    },
    {
      "cell_type": "code",
      "execution_count": null,
      "metadata": {
        "id": "wYs0U5KUK_Ar"
      },
      "outputs": [],
      "source": [
        "# and はどちらも True のときだけ True\n",
        "print(MRI and SPECT)"
      ]
    },
    {
      "cell_type": "code",
      "execution_count": null,
      "metadata": {
        "id": "13RlJSUCK_Ar"
      },
      "outputs": [],
      "source": [
        "# or はどちらかが True ならば True (両方 True でも True)\n",
        "print(MRI or SPECT)"
      ]
    }
  ],
  "metadata": {
    "colab": {
      "include_colab_link": true,
      "provenance": []
    },
    "kernelspec": {
      "display_name": "Python 3 (ipykernel)",
      "language": "python",
      "name": "python3"
    },
    "language_info": {
      "codemirror_mode": {
        "name": "ipython",
        "version": 3
      },
      "file_extension": ".py",
      "mimetype": "text/x-python",
      "name": "python",
      "nbconvert_exporter": "python",
      "pygments_lexer": "ipython3",
      "version": "3.10.8"
    }
  },
  "nbformat": 4,
  "nbformat_minor": 0
}
