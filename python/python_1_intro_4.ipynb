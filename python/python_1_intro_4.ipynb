{
  "cells": [
    {
      "cell_type": "markdown",
      "metadata": {
        "colab_type": "text",
        "id": "view-in-github"
      },
      "source": [
        "<a href=\"https://colab.research.google.com/github/kytk/neuroimaging-elearning/blob/main/python/python_1-1_intro.ipynb\" target=\"_parent\"><img src=\"https://colab.research.google.com/assets/colab-badge.svg\" alt=\"Open In Colab\"/></a>"
      ]
    },
    {
      "cell_type": "markdown",
      "metadata": {
        "id": "jw3ke1Y2K_Ab"
      },
      "source": [
        "# 脳画像解析のためのPython入門(全5回): Part 4\n",
        "\n",
        "Ver.20230925"
      ]
    },
    {
      "cell_type": "markdown",
      "metadata": {
        "id": "2KftFTyuK_Ad"
      },
      "source": [
        "## 目次\n",
        "12. if文による条件分岐\n",
        "13. 関数 function\n"
      ]
    },
    {
      "cell_type": "markdown",
      "metadata": {
        "id": "OQz7BETvK_Ar"
      },
      "source": [
        "## 12. if文による条件分岐\n",
        "- 条件に応じて分岐するには、ifを使う\n",
        "- 書式は以下\n",
        "\n",
        "```\n",
        "if 条件1:\n",
        "    条件1が真の時のブロック文1\n",
        "elif 条件2:\n",
        "    条件2が真の時のブロック文2\n",
        "else:\n",
        "    条件が偽の時のブロック文3\n",
        "```\n",
        "\n",
        "- 条件の最後に必ず `:` をつける\n",
        "- 条件の後のブロック文には、必ずインデント(半角スペース4文字もしくは2文字)を入れる\n",
        "    - インデント: 文章の行頭に空白を挿入して先頭の文字を右にずらすこと"
      ]
    },
    {
      "cell_type": "code",
      "execution_count": null,
      "metadata": {
        "id": "Q4he4L3QK_Ar"
      },
      "outputs": [],
      "source": [
        "# 条件によって成績をつけるプログラム\n",
        "# 80点以上はA, 70点以上はB, 60点以上はC, それ以外はD\n",
        "# print文は format() メソッドを使うと上手に表示できる\n",
        "\n",
        "score = 75\n",
        "\n",
        "if score >= 80:\n",
        "    grade = 'A'\n",
        "elif score >= 70:\n",
        "    grade = 'B'\n",
        "elif score >= 60:\n",
        "    grade = 'C'\n",
        "else:\n",
        "    grade = 'D'\n",
        "print('Your grade is {}'.format(grade))"
      ]
    },
    {
      "cell_type": "code",
      "execution_count": null,
      "metadata": {
        "id": "BGwisegEMly9"
      },
      "outputs": [],
      "source": [
        "score = 75\n",
        "\n",
        "if score >= 50:\n",
        "    grade = 'D'\n",
        "elif score >= 60:\n",
        "    grade = 'C'\n",
        "elif score >= 70:\n",
        "    grade = 'B'\n",
        "else:\n",
        "    grade = 'A'\n",
        "print('Your grade is {}'.format(grade))"
      ]
    },
    {
      "cell_type": "markdown",
      "metadata": {
        "id": "jHXVaPvxK_Ar"
      },
      "source": [
        "## 13. 関数 function\n",
        "- 上記の内容は その都度、`score = 75` を書き換えないといけない\n",
        "- このような時、関数を定義することができる\n",
        "- 関数は英語では function というように、「機能」\n",
        "- ここでの関数は、「自分の行いたい機能を実装する」というような意味として考えるとよい\n",
        "- `def 自作関数名(引数):` の後に行いたい処理を記載すれば関数となる\n",
        "- return で関数の戻り値を指定する\n",
        "- なお、関数の中で定義する変数は、関数の外では使うことはできない"
      ]
    },
    {
      "cell_type": "code",
      "execution_count": null,
      "metadata": {
        "id": "y-LAB_ZDK_Ar"
      },
      "outputs": [],
      "source": [
        "def grading(score):\n",
        "    # スコアによって成績を変数 g に代入\n",
        "    if score >= 80:\n",
        "        g = 'A'\n",
        "    elif score >= 70:\n",
        "        g = 'B'\n",
        "    elif score >= 60:\n",
        "        g = 'C'\n",
        "    else:\n",
        "        g = 'D'\n",
        "    # return g によってこの関数を実行すると、変数 g が戻り値となる\n",
        "    return g\n",
        "\n",
        "def display_grade(grade):\n",
        "    # 表示だけがメインの関数ならば戻り値は必要ないので、return は不要\n",
        "    print('あなたの成績は {} です'.format(grade))\n"
      ]
    },
    {
      "cell_type": "code",
      "execution_count": null,
      "metadata": {
        "id": "jp7Np_mmNlbT"
      },
      "outputs": [],
      "source": [
        "a = grading(90)"
      ]
    },
    {
      "cell_type": "code",
      "execution_count": null,
      "metadata": {
        "id": "g5Pl6qgNOO2m"
      },
      "outputs": [],
      "source": [
        "print(a)"
      ]
    },
    {
      "cell_type": "code",
      "execution_count": null,
      "metadata": {
        "id": "zDbe1OohK_Ar",
        "scrolled": true
      },
      "outputs": [],
      "source": [
        "# 自作のgrading関数の戻り値を変数 grade に代入する\n",
        "s = int(input('得点は?: '))\n",
        "grade = grading(s)"
      ]
    },
    {
      "cell_type": "code",
      "execution_count": null,
      "metadata": {
        "id": "sRgfBhu1K_Ar"
      },
      "outputs": [],
      "source": [
        "# 変数 grade の内容を表示\n",
        "print(grade)"
      ]
    },
    {
      "cell_type": "code",
      "execution_count": null,
      "metadata": {
        "id": "Jjr8AapVK_Ar"
      },
      "outputs": [],
      "source": [
        "# この結果を自作の dispaly_grade 関数に代入する\n",
        "display_grade(grade)"
      ]
    },
    {
      "cell_type": "code",
      "execution_count": null,
      "metadata": {
        "id": "czztkkg7K_Ar"
      },
      "outputs": [],
      "source": [
        "# 関数を組み合わせれば一行で表現可能\n",
        "s = int(input('得点は?: '))\n",
        "display_grade(grading(s))"
      ]
    }
  ],
  "metadata": {
    "colab": {
      "include_colab_link": true,
      "provenance": []
    },
    "kernelspec": {
      "display_name": "Python 3 (ipykernel)",
      "language": "python",
      "name": "python3"
    },
    "language_info": {
      "codemirror_mode": {
        "name": "ipython",
        "version": 3
      },
      "file_extension": ".py",
      "mimetype": "text/x-python",
      "name": "python",
      "nbconvert_exporter": "python",
      "pygments_lexer": "ipython3",
      "version": "3.10.8"
    }
  },
  "nbformat": 4,
  "nbformat_minor": 0
}
