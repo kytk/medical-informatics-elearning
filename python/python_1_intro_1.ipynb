{
  "cells": [
    {
      "cell_type": "markdown",
      "metadata": {
        "colab_type": "text",
        "id": "view-in-github"
      },
      "source": [
        "<a href=\"https://colab.research.google.com/github/kytk/neuroimaging-elearning/blob/main/python/python_1-1_intro.ipynb\" target=\"_parent\"><img src=\"https://colab.research.google.com/assets/colab-badge.svg\" alt=\"Open In Colab\"/></a>"
      ]
    },
    {
      "cell_type": "markdown",
      "metadata": {
        "id": "jw3ke1Y2K_Ab"
      },
      "source": [
        "# 脳画像解析のためのPython入門(全5回): Part 1\n",
        "\n",
        "Ver.20230816"
      ]
    },
    {
      "cell_type": "markdown",
      "metadata": {
        "id": "i4fS2Yy0K_Ad"
      },
      "source": [
        "## 本セクションの作成に参考にした書籍\n",
        "\n",
        "| 斎藤 康毅 | リブロワークス |\n",
        "| :--: | :--: |\n",
        "| ゼロから作る Deep Learning | スラスラ読める Pythonふりがなプログラミング |\n",
        "| <img src=\"https://www.nemotos.net/nb/img/dl_from_scratch_cover.png\" width=\"100\"> | <img src=\"https://www.nemotos.net/nb/img/surasura.jpg\" width=\"100\"> |"
      ]
    },
    {
      "cell_type": "markdown",
      "metadata": {
        "id": "ftajrd2GK_Ad"
      },
      "source": [
        "## 本セクションの目標\n",
        "- Pythonを学ぶにあたり、よく使う用語に慣れる\n",
        "- 関数、メソッドに触れる\n",
        "- データの様々な型を知る。特にリスト型に慣れる\n",
        "- インデックスとスライシングについて理解する"
      ]
    },
    {
      "cell_type": "markdown",
      "metadata": {
        "id": "2KftFTyuK_Ad"
      },
      "source": [
        "## 目次\n",
        "1. Pythonとは?\n",
        "1. Pythonの特徴\n",
        "1. 算術計算\n",
        "1. 変数"
      ]
    },
    {
      "cell_type": "markdown",
      "metadata": {
        "id": "PPaZ_vf-K_Ae"
      },
      "source": [
        "## 1. Pythonとは?\n",
        "- プログラミング言語\n",
        "- データサイエンス分野で頻用される\n",
        "- 機械学習や深層学習でもよく用いられる\n",
        "\n",
        "### なぜPython?\n",
        "- 土台のうえに、自分が好きな部品を様々追加していくことで、自分の目的を果たすことができる\n",
        "    - 一斉メールを送信する (標準ライブラリ: smtplib)\n",
        "    - Webサイトからデータを収集する (外部ライブラリ: Beautiful Soupなど)\n",
        "- 機械学習、深層学習を含むデータサイエンス領域においては、ほぼデファクトスタンダードになっている\n",
        "    - 脳画像もPythonを使って数値に落とし込んでいくことで、機械学習に応用することが比較的簡単にできる\n",
        "- 言語を比較的習得しやすい\n",
        "- リソースが充実している"
      ]
    },
    {
      "cell_type": "markdown",
      "metadata": {
        "id": "xUwJrbRlK_Ae"
      },
      "source": [
        "## 2. Pythonの特徴\n",
        "### 2.1. ライブラリ\n",
        "- 最小限のフレームワークに、「**ライブラリ library**」にある「**パッケージ package**」を「**インポート import**」 することで、機能を拡張していく\n",
        "    - ライブラリは、Pythonに付属している「標準ライブラリ」と、ダウンロードが必要な「外部ライブラリ」に大別される\n",
        "        - イメージ: Pythonは学校、ライブラリは図書館、標準ライブラリにあるパッケージは、図書館に常備されている本、外部ライブラリにあるパッケージは、取り寄せた本\n",
        "    - パッケージの中にある「**モジュール module**」を使用する\n",
        "    - モジュールはさまざまな「**関数 function**」で構成されている\n",
        "      \n",
        "    <img src=\"https://www.nemotos.net/nb/img/python_library.png\" width=400>\n",
        "\n",
        "\n"
      ]
    },
    {
      "cell_type": "markdown",
      "metadata": {
        "id": "vPu0gnk_K_Ae"
      },
      "source": [
        "### 2.2. パッケージのインポート\n",
        "\n",
        "- `import パッケージ名 as 別名`\n",
        "- `import パッケージ名.モジュール名 as 別名`                    \n",
        "- `from パッケージ名 import パッケージ内のモジュール名 as 別名`\n",
        "\n",
        "- 例\n",
        "    - `import numpy as np`\n",
        "        - 「numpyパッケージ を np という名前でインポートしなさい」\n",
        "        - 以後は、numpyパッケージの様々なモジュールは np.モジュール として使用する\n",
        "    - `import matplotlib.pyplot as plt`\n",
        "        - 「matplotlibのパッケージに入っている pyplot モジュールを plt という名前でインポートしなさい」\n",
        "        - 以後は、plt というコマンドで、pyplotを使用できる\n",
        "    - `from matplotlib import pyplot as plt`\n",
        "        - 「matplotlib のパッケージから、pyplot モジュールを、plt という名前でインポートしなさい」\n",
        "        - 上の `import matplotlib.pyplot as plt` と同義 (pyplotについては前者が使われることが多い)\n",
        "    \n",
        "#### パッケージを実際にインポートしてみる\n",
        "- 外部ライブラリにある'numpy' と 'matplotlib' をインポートし、`y=sin(x)` を描画してみる\n",
        "\n",
        "- 注: セルの中にある # ではじまるところはコメントとなり、プログラムの実行に関与しない"
      ]
    },
    {
      "cell_type": "code",
      "execution_count": null,
      "metadata": {
        "id": "tUiZFnCjK_Ag"
      },
      "outputs": [],
      "source": [
        "# Jupyter Notebook内にグラフを表示するには、以下の一文を記す\n",
        "%matplotlib inline\n",
        "\n",
        "# numpy を np としてインポートする\n",
        "import numpy as np\n",
        "# matplotlib.pyplot を plt としてインポートする\n",
        "import matplotlib.pyplot as plt\n",
        "\n",
        "# xを0〜5まで0.1刻みで準備する\n",
        "x = np.arange(0, 5, 0.1)\n",
        "# y=sin(x)を計算する\n",
        "y = np.sin(x)\n",
        "# xとyの関係をプロットする\n",
        "plt.plot(x, y)\n",
        "# 画面に表示するパッケージのインポート\n",
        "plt.show()"
      ]
    },
    {
      "cell_type": "markdown",
      "metadata": {
        "id": "4_nMtuHNK_Ah"
      },
      "source": [
        "### 2.3. オブジェクト と 型 (クラス)\n",
        "- Pythonでは、データや変数、関数などをすべて「**オブジェクト object**」として扱う\n",
        "- Pythonではオブジェクトの性質を表す様々な「型」が準備されている。「クラス」ともいう。\n",
        "- データ型は、type() 関数を使うことで知ることができる\n",
        "- <class 'int'> は整数型を意味する"
      ]
    },
    {
      "cell_type": "code",
      "execution_count": null,
      "metadata": {
        "id": "mu3DaBxMK_Ah"
      },
      "outputs": [],
      "source": [
        "# 整数は int型 (integer: 整数)\n",
        "print(type(10))"
      ]
    },
    {
      "cell_type": "code",
      "execution_count": null,
      "metadata": {
        "id": "X5sq_oRDK_Ah"
      },
      "outputs": [],
      "source": [
        "# 小数は float型 (floating point number: 浮動小数点数)\n",
        "print(type(3.14))"
      ]
    },
    {
      "cell_type": "code",
      "execution_count": null,
      "metadata": {
        "id": "cko565MzK_Ah"
      },
      "outputs": [],
      "source": [
        "# 文字列は str型 (string: 文字列)\n",
        "print(type('Hello'))"
      ]
    },
    {
      "cell_type": "markdown",
      "metadata": {
        "id": "a9l6vwTlK_Ag"
      },
      "source": [
        "### 2.4. 関数とメソッド\n",
        "- Pythonの特徴として、オブジェクトに様々な属性や機能をもたせることができる\n",
        "- Pythonでは、単独で使える「**関数 function**」に加えて、オブジェクトに付けて呼び出す様々な「**メソッド method**」が準備されている\n",
        "- メソッドを使うことで、オブジェクトに対してなんらかの処理を行うことができる\n",
        "- メソッドは、オブジェクトの後ろに ドットをつけてメソッドを記載する"
      ]
    },
    {
      "cell_type": "code",
      "execution_count": null,
      "metadata": {
        "id": "SvziuuSNK_Ag"
      },
      "outputs": [],
      "source": [
        "# 変数A に Neuroimaging という文字列を代入すると、オブジェクトAが作られる\n",
        "A = 'Neuroimaging'"
      ]
    },
    {
      "cell_type": "code",
      "execution_count": null,
      "metadata": {
        "id": "02bnH5Oge7up"
      },
      "outputs": [],
      "source": [
        "# オブジェクトA は str型\n",
        "print(type(A))"
      ]
    },
    {
      "cell_type": "code",
      "execution_count": null,
      "metadata": {
        "id": "D69zv23YK_Ag"
      },
      "outputs": [],
      "source": [
        "# 関数は単独で使う\n",
        "# print() 関数は、オブジェクトの内容を表示する\n",
        "print(A)"
      ]
    },
    {
      "cell_type": "code",
      "execution_count": null,
      "metadata": {
        "id": "kqXYPQCfK_Ag"
      },
      "outputs": [],
      "source": [
        "# len() 関数は、str型のオブジェクトの文字数を表示する\n",
        "len(A)"
      ]
    },
    {
      "cell_type": "code",
      "execution_count": null,
      "metadata": {
        "id": "uWUIooRgK_Ag"
      },
      "outputs": [],
      "source": [
        "# input() 関数を使うと、キーボードから入力させた文字列からstr型オブジェクトを作ることができる\n",
        "month_of_birth = input('あなたの生まれた月は?: ')\n",
        "# キーボードで入力した値が表示される\n",
        "print(month_of_birth)"
      ]
    },
    {
      "cell_type": "code",
      "execution_count": null,
      "metadata": {
        "id": "HHNyk8XLK_Ag"
      },
      "outputs": [],
      "source": [
        "# str型のオブジェクトに準備されているメソッド upper() は、文字列をすべて大文字にする\n",
        "# オブジェクトの後に . をつけて A.upper() とする\n",
        "# 小文字は lower()\n",
        "# upper() メソッドは、文字列型オブジェクトにもともと準備されている関数\n",
        "A.upper()"
      ]
    },
    {
      "cell_type": "code",
      "execution_count": null,
      "metadata": {
        "id": "IpCen2Qbfs2p"
      },
      "outputs": [],
      "source": [
        "# メソッドで文字がすべて大文字になっても、オブジェクトAそのものは変わらない\n",
        "print(A)"
      ]
    },
    {
      "cell_type": "code",
      "execution_count": null,
      "metadata": {
        "id": "PQMvvCcsgM2Z"
      },
      "outputs": [],
      "source": [
        "# 大文字にしたかったら、新たに別のオブジェクトに代入する。\n",
        "B = A.upper()\n",
        "print(B)"
      ]
    },
    {
      "cell_type": "code",
      "execution_count": null,
      "metadata": {
        "id": "lolFXvh9K_Ag"
      },
      "outputs": [],
      "source": [
        "# 文字列型のオブジェクトに準備されているメソッド replace() は、特定の文字を別の文字に置換する\n",
        "# 小文字の i を 大文字の I に置換する\n",
        "A.replace('i','I')"
      ]
    },
    {
      "cell_type": "markdown",
      "metadata": {
        "id": "Yu9iXhV6K_Ag"
      },
      "source": [
        "### 2.5. print() 関数についての注意\n",
        "- Jupyter NotebookやPythonのインタラクティブシェルでは、変数だけタイプするとその内容を表示する\n",
        "- さっと確認したい時は便利\n",
        "- しかし、表示されるのはJupyter Notebookでは、ひとつのセル内の最後の1行のみ\n",
        "- print()を使うと、いずれも表示できる\n",
        "- スクリプトを書く際には、画面に出力したい内容は必ず print() で記載する"
      ]
    },
    {
      "cell_type": "code",
      "execution_count": null,
      "metadata": {
        "id": "iukT6b9IK_Ag"
      },
      "outputs": [],
      "source": [
        "# 変数 A と B に値を代入する\n",
        "A = 'Hello'\n",
        "B = 'World'"
      ]
    },
    {
      "cell_type": "code",
      "execution_count": null,
      "metadata": {
        "id": "No_53bsyK_Ag"
      },
      "outputs": [],
      "source": [
        "# A と B を行を変えて記載すると、最後の行しか表示されない\n",
        "A\n",
        "B"
      ]
    },
    {
      "cell_type": "code",
      "execution_count": null,
      "metadata": {
        "id": "zf5dN5jSK_Ag"
      },
      "outputs": [],
      "source": [
        "# print() を使うと表示される\n",
        "print(A)\n",
        "print(B)"
      ]
    },
    {
      "cell_type": "code",
      "execution_count": null,
      "metadata": {
        "id": "vcQ5BiPUK_Ag"
      },
      "outputs": [],
      "source": [
        "# カンマで区切って1行で表示すると表示できる\n",
        "A, B"
      ]
    },
    {
      "cell_type": "code",
      "execution_count": null,
      "metadata": {
        "id": "5f9AmH0MK_Ag"
      },
      "outputs": [],
      "source": [
        "# print()関数内でも、カンマで区切って表示することができる\n",
        "print(A, B)"
      ]
    },
    {
      "cell_type": "markdown",
      "metadata": {
        "id": "_5qR_q8ig8dk"
      },
      "source": [
        "### 2.6. ミニテスト\n",
        "1. オブジェクトC に 'I want to master neuroimaging analysis.' を代入してください。\n",
        "1. オブジェクトC を表示してください。\n",
        "1. この文の文字数を求めてください。\n",
        "1. オブジェクトC を すべて大文字で表示してください。\n",
        "1. replaceメソッドを使って、'neuroimaging' を 'statistical' に置換したものをオブジェクトDに代入してください。\n",
        "1. オブジェクトCとオブジェクトDを1行で表示してください。"
      ]
    },
    {
      "cell_type": "code",
      "execution_count": null,
      "metadata": {
        "id": "oAaOi9yzhuN6"
      },
      "outputs": [],
      "source": [
        "# ミニテスト\n",
        "# オブジェクトCに 'I want to master neuroimagin analysis' を代入してください。\n"
      ]
    },
    {
      "cell_type": "code",
      "execution_count": null,
      "metadata": {
        "id": "UFAQC4LkiNVH"
      },
      "outputs": [],
      "source": [
        "# Cを表示してください\n"
      ]
    },
    {
      "cell_type": "code",
      "execution_count": null,
      "metadata": {
        "id": "DZpGM6_GiNP-"
      },
      "outputs": [],
      "source": [
        "# Cの文字数を求めてください\n"
      ]
    },
    {
      "cell_type": "code",
      "execution_count": null,
      "metadata": {
        "id": "HR4aR9aaiNKu"
      },
      "outputs": [],
      "source": [
        "# Cをすべて大文字で表示してください\n"
      ]
    },
    {
      "cell_type": "code",
      "execution_count": null,
      "metadata": {
        "id": "CnsV873tiM2v"
      },
      "outputs": [],
      "source": [
        "# replaceメソッドをつかって、'neuroimaging' を 'statistical' に置換したものをオブジェクトDに代入してください\n"
      ]
    },
    {
      "cell_type": "code",
      "execution_count": null,
      "metadata": {
        "id": "OiObCSi9kc_e"
      },
      "outputs": [],
      "source": [
        "# オブジェクトCとオブジェクトDを1行で表示してください。\n"
      ]
    },
    {
      "cell_type": "markdown",
      "metadata": {
        "id": "I0AQumEDi9h9"
      },
      "source": [
        "### 2.6. ミニテストの回答\n",
        "\n",
        "1. オブジェクトC に 'I want to master neuroimaging analysis.' を代入してください。\n",
        "    ```\n",
        "    C = 'I want to master neuroimaging analysis'\n",
        "    ```\n",
        "\n",
        "1. オブジェクトC を表示してください。\n",
        "    ```\n",
        "    print(C)\n",
        "    ```\n",
        "1. この文の文字数を求めてください。\n",
        "    ```\n",
        "    len(C)\n",
        "    ```\n",
        "\n",
        "1. オブジェクトC を すべて大文字で表示してください。\n",
        "    ```\n",
        "    C.upper()\n",
        "    ```\n",
        "\n",
        "1. replaceメソッドを使って、'neuroimaging' を 'statistical' に置換したものをオブジェクトDに代入してください。\n",
        "    ```\n",
        "    D = C.replace('neuroimaging','statistical')\n",
        "    ```\n",
        "\n",
        "1. オブジェクトCとオブジェクトDを1行で表示してください。\n",
        "    ```\n",
        "    print(C, D)\n",
        "    ```\n"
      ]
    },
    {
      "cell_type": "markdown",
      "metadata": {
        "id": "anMcrUwUK_Ag"
      },
      "source": [
        "## 3. 算術計算\n",
        "- 四則演算は以下のように行う\n",
        "    - 足し算: +\n",
        "    - 引き算: -\n",
        "    - 掛け算: *\n",
        "    - 割り算: /\n",
        "    - 累乗: **\n",
        "    - 割り算の商: //\n",
        "    - 割り算の余り: %\n",
        "- かっこの計算もできる。ただし、中括弧{}も大かっこ[]もすべて()を使う"
      ]
    },
    {
      "cell_type": "code",
      "execution_count": null,
      "metadata": {
        "id": "qGrfCKMWK_Ag"
      },
      "outputs": [],
      "source": [
        "# 2の10乗\n",
        "2 ** 10"
      ]
    },
    {
      "cell_type": "code",
      "execution_count": null,
      "metadata": {
        "id": "NDGp6TLcmIMV"
      },
      "outputs": [],
      "source": [
        "# {(2+5)×(7-2)}÷3\n",
        "((2+5)*(7-2))/5"
      ]
    },
    {
      "cell_type": "code",
      "execution_count": null,
      "metadata": {
        "id": "U6ryowZuK_Ag"
      },
      "outputs": [],
      "source": [
        "# 15を7で割った時の商\n",
        "15 // 7"
      ]
    },
    {
      "cell_type": "code",
      "execution_count": null,
      "metadata": {
        "id": "EXC4NRaYK_Ah"
      },
      "outputs": [],
      "source": [
        "# 256を7で割った時の余り\n",
        "# 余りは条件分岐でよく使用する\n",
        "# 4の倍数→4で割った余りが0\n",
        "256 % 7"
      ]
    },
    {
      "cell_type": "markdown",
      "metadata": {
        "id": "DgXfJrRCkrgJ"
      },
      "source": [
        "### 3.1. ミニテスト\n",
        "- 偏差値は 50 + 10 * (点数 - 平均値) / 標準偏差 で求められます。平均点 60, 標準偏差 20 の時に、A君は80点、B君は50点でした。A君とB君の偏差値を表示してください。\n"
      ]
    },
    {
      "cell_type": "code",
      "execution_count": null,
      "metadata": {
        "id": "3oCfWOLMmlFx"
      },
      "outputs": [],
      "source": [
        "# A君の偏差値\n",
        "print(50 + 10 * (80 - 60) / 20)\n",
        "# B君の偏差値\n",
        "print(50 + 10 * (50 - 60) / 20)\n"
      ]
    },
    {
      "cell_type": "markdown",
      "metadata": {
        "id": "zbrqdoyfnHxM"
      },
      "source": [
        "#### ミニテストの回答\n",
        "- A君の偏差値\n",
        "    ```\n",
        "    print(50 + 10 * (80 - 60) / 20)\n",
        "    ```\n",
        "\n",
        "- B君の偏差値\n",
        "    ```\n",
        "    print(50 + 10 * (80 - 60) / 20)\n",
        "    ```\n"
      ]
    },
    {
      "cell_type": "markdown",
      "metadata": {
        "id": "Mpo_mEN7K_Ao"
      },
      "source": [
        "## 4. 変数\n",
        "- x や y などのアルファベットを使って「**変数**」を定義できる。変数は、= を使って値を代入する\n",
        "    - プログラミング言語では、**= は等式ではなく、代入の記号である**ことに注意\n",
        "    - 変数はオブジェクトのひとつ (オブジェクトはより抽象的な表現)\n",
        "- 変数の型は、変数に代入される値に応じて自動で設定される\n",
        "- Pythonでは、一行で複数の変数を代入することができる"
      ]
    },
    {
      "cell_type": "code",
      "execution_count": null,
      "metadata": {
        "id": "t8jHOhA0K_Ap"
      },
      "outputs": [],
      "source": [
        "# x に 100, y に 3.14 を代入する\n",
        "x, y = 100, 3.14\n",
        "\n",
        "# x * y を z に代入する\n",
        "z = x * y"
      ]
    },
    {
      "cell_type": "code",
      "execution_count": null,
      "metadata": {
        "id": "5wTqQX19K_Ap"
      },
      "outputs": [],
      "source": [
        "# zの内容を表示する\n",
        "# 変数だけをタイプするとその変数の内容が表示される\n",
        "# 整数型 int に 浮動小数点型 float をかけると、float になる\n",
        "z"
      ]
    },
    {
      "cell_type": "code",
      "execution_count": null,
      "metadata": {
        "id": "IZenUABFK_Ap"
      },
      "outputs": [],
      "source": [
        "# z のデータ型を確認する\n",
        "# print() を使わないと、型のみ表示される\n",
        "type(z)"
      ]
    },
    {
      "cell_type": "code",
      "execution_count": null,
      "metadata": {
        "id": "WFi_JMdjK_Ap"
      },
      "outputs": [],
      "source": [
        "# プログラミング言語の多くは、ある変数に作業をしたものを、同じ変数に代入するということができる\n",
        "# x に 50 を足したものを 新たな x とする\n",
        "# = は等号ではなく、代入の記号であることに注意！\n",
        "x = x + 50\n",
        "print(x) # もともと xは100だったので、今、xは150になっているはず\n",
        "\n",
        "# 同じことを以下の表示でも行える\n",
        "\n",
        "x += 50 # x = x + 50 と同義；これを「加算代入」という\n",
        "print(x) # 200 になっているはず"
      ]
    },
    {
      "cell_type": "markdown",
      "metadata": {
        "id": "wU05R0HCpysV"
      },
      "source": [
        "### 4.1. ミニテスト\n",
        "- A君は、最初1000円のお小遣いを持っていました。コンビニに行って、300円使いました。A君の今のお小遣いを減算代入 -= を使って更新してください\n"
      ]
    },
    {
      "cell_type": "code",
      "execution_count": null,
      "metadata": {
        "id": "tAQ4EXWIqWS_"
      },
      "outputs": [],
      "source": [
        "# A君の最初に持っている小遣いを変数 a に代入\n",
        "a = 1000\n",
        "print('残高:', a)\n",
        "# 減算代入を使って、300円使ったという状況で、a を更新 (以下に減算代入の記号を記載してください)\n",
        "a   300\n",
        "print('残高:', a)"
      ]
    },
    {
      "cell_type": "markdown",
      "metadata": {
        "id": "dGnqI2WZqpac"
      },
      "source": [
        "#### ミニテストの回答\n",
        "\n",
        "```\n",
        "# A君の最初に持っている小遣いを変数 a に代入\n",
        "a = 1000\n",
        "print('残高:', a)\n",
        "# 減算代入を使って、300円使ったという状況で、a を更新 (以下に減算代入の記号を記載してください)\n",
        "a -= 300\n",
        "print('残高:', a)\n",
        "```\n",
        "\n"
      ]
    }
  ],
  "metadata": {
    "colab": {
      "include_colab_link": true,
      "provenance": []
    },
    "kernelspec": {
      "display_name": "Python 3 (ipykernel)",
      "language": "python",
      "name": "python3"
    },
    "language_info": {
      "codemirror_mode": {
        "name": "ipython",
        "version": 3
      },
      "file_extension": ".py",
      "mimetype": "text/x-python",
      "name": "python",
      "nbconvert_exporter": "python",
      "pygments_lexer": "ipython3",
      "version": "3.10.8"
    }
  },
  "nbformat": 4,
  "nbformat_minor": 0
}
