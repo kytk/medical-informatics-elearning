{
  "cells": [
    {
      "cell_type": "markdown",
      "metadata": {
        "id": "view-in-github",
        "colab_type": "text"
      },
      "source": [
        "<a href=\"https://colab.research.google.com/github/kytk/neuroimaging-elearning/blob/main/python/python_1-1_intro.ipynb\" target=\"_parent\"><img src=\"https://colab.research.google.com/assets/colab-badge.svg\" alt=\"Open In Colab\"/></a>"
      ]
    },
    {
      "cell_type": "markdown",
      "metadata": {
        "id": "jw3ke1Y2K_Ab"
      },
      "source": [
        "# 脳画像解析のためのPython入門\n",
        "# 1-1: 基本のキ\n",
        "\n",
        "Ver.20230816"
      ]
    },
    {
      "cell_type": "markdown",
      "metadata": {
        "id": "i4fS2Yy0K_Ad"
      },
      "source": [
        "## 本セクションの作成に参考にした書籍\n",
        "\n",
        "| 斎藤 康毅 | リブロワークス |\n",
        "| :--: | :--: |\n",
        "| ゼロから作る Deep Learning | スラスラ読める Pythonふりがなプログラミング |\n",
        "| <img src=\"https://www.nemotos.net/nb/img/dl_from_scratch_cover.png\" width=\"100\"> | <img src=\"https://www.nemotos.net/nb/img/surasura.jpg\" width=\"100\"> |"
      ]
    },
    {
      "cell_type": "markdown",
      "metadata": {
        "id": "ftajrd2GK_Ad"
      },
      "source": [
        "## 本セクションの目標\n",
        "- Pythonを学ぶにあたり、よく使う用語に慣れる\n",
        "- 関数、メソッドに触れる\n",
        "- データの様々な型を知る。特にリスト型に慣れる\n",
        "- インデックスとスライシングについて理解する"
      ]
    },
    {
      "cell_type": "markdown",
      "metadata": {
        "id": "2KftFTyuK_Ad"
      },
      "source": [
        "## 目次\n",
        "1. Pythonとは?\n",
        "1. Pythonの特徴\n",
        "1. 算術計算\n",
        "1. 文字列の結合\n",
        "1. 変数\n",
        "1. リスト （配列）\n",
        "1. タプル\n",
        "1. ディクショナリ\n",
        "1. ブーリアン\n",
        "1. if文による条件分岐\n",
        "1. 関数 function\n",
        "1. for文によるループ処理\n",
        "1. 練習問題"
      ]
    },
    {
      "cell_type": "markdown",
      "metadata": {
        "id": "PPaZ_vf-K_Ae"
      },
      "source": [
        "## 1. Pythonとは?\n",
        "- プログラミング言語\n",
        "- データサイエンス分野で頻用される\n",
        "- 機械学習や深層学習でもよく用いられる\n",
        "\n",
        "### なぜPython?\n",
        "- 土台のうえに、自分が好きな部品を様々追加していくことで、自分の目的を果たすことができる\n",
        "    - 一斉メールを送信する (標準ライブラリ: smtplib)\n",
        "    - Webサイトからデータを収集する (外部ライブラリ: Beautiful Soupなど)\n",
        "- 機械学習、深層学習を含むデータサイエンス領域においては、ほぼデファクトスタンダードになっている\n",
        "    - 脳画像もPythonを使って数値に落とし込んでいくことで、機械学習に応用することが比較的簡単にできる\n",
        "- 言語を比較的習得しやすい\n",
        "- リソースが充実している"
      ]
    },
    {
      "cell_type": "markdown",
      "metadata": {
        "id": "xUwJrbRlK_Ae"
      },
      "source": [
        "## 2. Pythonの特徴\n",
        "### 2.1. ライブラリ\n",
        "- 最小限のフレームワークに、「**ライブラリ library**」にある「**パッケージ package**」を「**インポート import**」 することで、機能を拡張していく\n",
        "    - ライブラリは、Pythonに付属している「標準ライブラリ」と、ダウンロードが必要な「外部ライブラリ」に大別される\n",
        "        - イメージ: Pythonは学校、ライブラリは図書館、標準ライブラリにあるパッケージは、図書館に常備されている本、外部ライブラリにあるパッケージは、取り寄せた本\n",
        "    - パッケージの中にある「**モジュール module**」を使用する\n",
        "    - モジュールはさまざまな「**関数 function**」で構成されている\n",
        "      \n",
        "    <img src=\"https://www.nemotos.net/nb/img/python_library.png\" width=400>\n",
        "\n",
        "\n"
      ]
    },
    {
      "cell_type": "markdown",
      "metadata": {
        "id": "vPu0gnk_K_Ae"
      },
      "source": [
        "### 2.2. パッケージのインポート\n",
        "\n",
        "- `import パッケージ名 as 別名`\n",
        "- `import パッケージ名.モジュール名 as 別名`                    \n",
        "- `from パッケージ名 import パッケージ内のモジュール名 as 別名`\n",
        "\n",
        "- 例\n",
        "    - `import numpy as np`\n",
        "        - 「numpyパッケージ を np という名前でインポートしなさい」\n",
        "        - 以後は、numpyパッケージの様々なモジュールは np.モジュール として使用する\n",
        "    - `import matplotlib.pyplot as plt`\n",
        "        - 「matplotlibのパッケージに入っている pyplot モジュールを plt という名前でインポートしなさい」\n",
        "        - 以後は、plt というコマンドで、pyplotを使用できる\n",
        "    - `from matplotlib import pyplot as plt`\n",
        "        - 「matplotlib のパッケージから、pyplot モジュールを、plt という名前でインポートしなさい」\n",
        "        - 上の `import matplotlib.pyplot as plt` と同義 (pyplotについては前者が使われることが多い)\n",
        "    \n",
        "#### パッケージを実際にインポートしてみる\n",
        "- 外部ライブラリにある'numpy' と 'matplotlib' をインポートし、`y=sin(x)` を描画してみる\n",
        "\n",
        "- 注: セルの中にある # ではじまるところはコメントとなり、プログラムの実行に関与しない"
      ]
    },
    {
      "cell_type": "code",
      "execution_count": null,
      "metadata": {
        "id": "tUiZFnCjK_Ag",
        "outputId": "d04a51bf-af47-432a-b95d-14c2177b796b",
        "colab": {
          "base_uri": "https://localhost:8080/",
          "height": 430
        }
      },
      "outputs": [
        {
          "output_type": "display_data",
          "data": {
            "text/plain": [
              "<Figure size 640x480 with 1 Axes>"
            ],
            "image/png": "[encoded data removed]"
          },
          "metadata": {}
        }
      ],
      "source": [
        "# Jupyter Notebook内にグラフを表示するには、以下の一文を記す\n",
        "%matplotlib inline\n",
        "\n",
        "# numpy を np としてインポートする\n",
        "import numpy as np\n",
        "# matplotlib.pyplot を plt としてインポートする\n",
        "import matplotlib.pyplot as plt\n",
        "\n",
        "# xを0〜5まで0.1刻みで準備する\n",
        "x = np.arange(0, 5, 0.1)\n",
        "# y=sin(x)を計算する\n",
        "y = np.sin(x)\n",
        "# xとyの関係をプロットする\n",
        "plt.plot(x, y)\n",
        "# 画面に表示する\n",
        "plt.show()"
      ]
    },
    {
      "cell_type": "markdown",
      "metadata": {
        "id": "4_nMtuHNK_Ah"
      },
      "source": [
        "### 2.3. オブジェクト と 型 (クラス)\n",
        "- Pythonでは、データや変数、関数などをすべて「**オブジェクト object**」として扱う\n",
        "- Pythonではオブジェクトの性質を表す様々な「型」が準備されている。「クラス」ともいう。\n",
        "- データ型は、type() 関数を使うことで知ることができる\n",
        "- <class 'int'> は整数型を意味する"
      ]
    },
    {
      "cell_type": "code",
      "execution_count": null,
      "metadata": {
        "id": "mu3DaBxMK_Ah",
        "outputId": "d24101bc-5f0b-467d-d7c2-5a8f05bd3cdd",
        "colab": {
          "base_uri": "https://localhost:8080/"
        }
      },
      "outputs": [
        {
          "output_type": "stream",
          "name": "stdout",
          "text": [
            "<class 'int'>\n"
          ]
        }
      ],
      "source": [
        "# 整数は int型 (integer: 整数)\n",
        "print(type(10))"
      ]
    },
    {
      "cell_type": "code",
      "execution_count": null,
      "metadata": {
        "id": "X5sq_oRDK_Ah",
        "outputId": "038b890d-a9df-46b0-8539-7db77e100a0b",
        "colab": {
          "base_uri": "https://localhost:8080/"
        }
      },
      "outputs": [
        {
          "output_type": "stream",
          "name": "stdout",
          "text": [
            "<class 'float'>\n"
          ]
        }
      ],
      "source": [
        "# 小数は float型 (floating point number: 浮動小数点数)\n",
        "print(type(3.14))"
      ]
    },
    {
      "cell_type": "code",
      "execution_count": null,
      "metadata": {
        "id": "cko565MzK_Ah",
        "outputId": "01a2727e-5787-4e08-896d-d451333b7a82",
        "colab": {
          "base_uri": "https://localhost:8080/"
        }
      },
      "outputs": [
        {
          "output_type": "stream",
          "name": "stdout",
          "text": [
            "<class 'str'>\n"
          ]
        }
      ],
      "source": [
        "# 文字列は str型 (string: 文字列)\n",
        "print(type('Hello'))"
      ]
    },
    {
      "cell_type": "markdown",
      "metadata": {
        "id": "a9l6vwTlK_Ag"
      },
      "source": [
        "### 2.4. 関数とメソッド\n",
        "- Pythonの特徴として、オブジェクトに様々な属性や機能をもたせることができる\n",
        "- Pythonでは、単独で使える「**関数 function**」に加えて、オブジェクトに付けて呼び出す様々な「**メソッド method**」が準備されている\n",
        "- メソッドを使うことで、オブジェクトに対してなんらかの処理を行うことができる\n",
        "- メソッドは、オブジェクトの後ろに ドットをつけてメソッドを記載する"
      ]
    },
    {
      "cell_type": "code",
      "execution_count": 4,
      "metadata": {
        "id": "SvziuuSNK_Ag"
      },
      "outputs": [],
      "source": [
        "# 変数A に Neuroimaging という文字列を代入すると、オブジェクトAが作られる\n",
        "A = 'Neuroimaging'"
      ]
    },
    {
      "cell_type": "code",
      "source": [
        "# オブジェクトA は str型\n",
        "print(type(A))"
      ],
      "metadata": {
        "id": "02bnH5Oge7up",
        "outputId": "d00a49fa-f8d6-453e-e838-16368e8d8f2d",
        "colab": {
          "base_uri": "https://localhost:8080/"
        }
      },
      "execution_count": 5,
      "outputs": [
        {
          "output_type": "stream",
          "name": "stdout",
          "text": [
            "<class 'str'>\n"
          ]
        }
      ]
    },
    {
      "cell_type": "code",
      "execution_count": 6,
      "metadata": {
        "id": "D69zv23YK_Ag",
        "outputId": "82be1447-6d19-405e-dc93-97f14582c5f4",
        "colab": {
          "base_uri": "https://localhost:8080/"
        }
      },
      "outputs": [
        {
          "output_type": "stream",
          "name": "stdout",
          "text": [
            "Neuroimaging\n"
          ]
        }
      ],
      "source": [
        "# 関数は単独で使う\n",
        "# print() 関数は、オブジェクトの内容を表示する\n",
        "print(A)"
      ]
    },
    {
      "cell_type": "code",
      "execution_count": 7,
      "metadata": {
        "id": "kqXYPQCfK_Ag",
        "outputId": "4c280663-f96d-4ab4-af53-003b31f8c99c",
        "colab": {
          "base_uri": "https://localhost:8080/"
        }
      },
      "outputs": [
        {
          "output_type": "execute_result",
          "data": {
            "text/plain": [
              "12"
            ]
          },
          "metadata": {},
          "execution_count": 7
        }
      ],
      "source": [
        "# len() 関数は、str型のオブジェクトの文字数を表示する\n",
        "len(A)"
      ]
    },
    {
      "cell_type": "code",
      "execution_count": 8,
      "metadata": {
        "id": "uWUIooRgK_Ag",
        "outputId": "e1fe671f-3d75-4c8a-daf6-47958adc20a7",
        "colab": {
          "base_uri": "https://localhost:8080/"
        }
      },
      "outputs": [
        {
          "output_type": "stream",
          "name": "stdout",
          "text": [
            "あなたの生まれた月は?: 12\n",
            "12\n"
          ]
        }
      ],
      "source": [
        "# input() 関数を使うと、キーボードから入力させた文字列からstr型オブジェクトを作ることができる\n",
        "month_of_birth = input('あなたの生まれた月は?: ')\n",
        "# キーボードで入力した値が表示される\n",
        "print(month_of_birth)"
      ]
    },
    {
      "cell_type": "code",
      "execution_count": 10,
      "metadata": {
        "id": "HHNyk8XLK_Ag",
        "outputId": "7568b9b8-5e51-4fec-f2f0-df476a3cb140",
        "colab": {
          "base_uri": "https://localhost:8080/",
          "height": 35
        }
      },
      "outputs": [
        {
          "output_type": "execute_result",
          "data": {
            "text/plain": [
              "'NEUROIMAGING'"
            ],
            "application/vnd.google.colaboratory.intrinsic+json": {
              "type": "string"
            }
          },
          "metadata": {},
          "execution_count": 10
        }
      ],
      "source": [
        "# str型のオブジェクトに準備されているメソッド upper() は、文字列をすべて大文字にする\n",
        "# オブジェクトの後に . をつけて A.upper() とする\n",
        "# 小文字は lower()\n",
        "# upper() メソッドは、文字列型オブジェクトにもともと準備されている関数\n",
        "A.upper()"
      ]
    },
    {
      "cell_type": "code",
      "source": [
        "# メソッドで文字がすべて大文字になっても、オブジェクトAそのものは変わらない\n",
        "print(A)"
      ],
      "metadata": {
        "id": "IpCen2Qbfs2p",
        "outputId": "60141a9d-5dc9-4e67-e057-76c8aafeda04",
        "colab": {
          "base_uri": "https://localhost:8080/"
        }
      },
      "execution_count": 12,
      "outputs": [
        {
          "output_type": "stream",
          "name": "stdout",
          "text": [
            "Neuroimaging\n"
          ]
        }
      ]
    },
    {
      "cell_type": "code",
      "source": [
        "# 大文字にしたかったら、新たに別のオブジェクトに代入する。\n",
        "B = A.upper()\n",
        "print(B)"
      ],
      "metadata": {
        "id": "PQMvvCcsgM2Z",
        "outputId": "715560ba-53e0-4ad3-8944-3eaa8abd5ad6",
        "colab": {
          "base_uri": "https://localhost:8080/"
        }
      },
      "execution_count": 15,
      "outputs": [
        {
          "output_type": "stream",
          "name": "stdout",
          "text": [
            "NEUROIMAGING\n"
          ]
        }
      ]
    },
    {
      "cell_type": "code",
      "execution_count": 14,
      "metadata": {
        "id": "lolFXvh9K_Ag",
        "outputId": "a7f2beb9-5689-4c1a-f144-199d611314c4",
        "colab": {
          "base_uri": "https://localhost:8080/",
          "height": 35
        }
      },
      "outputs": [
        {
          "output_type": "execute_result",
          "data": {
            "text/plain": [
              "'NeuroImagIng'"
            ],
            "application/vnd.google.colaboratory.intrinsic+json": {
              "type": "string"
            }
          },
          "metadata": {},
          "execution_count": 14
        }
      ],
      "source": [
        "# 文字列型のオブジェクトに準備されているメソッド replace() は、特定の文字を別の文字に置換する\n",
        "# 小文字の i を 大文字の I に置換する\n",
        "A.replace('i','I')"
      ]
    },
    {
      "cell_type": "markdown",
      "metadata": {
        "id": "Yu9iXhV6K_Ag"
      },
      "source": [
        "### 2.5. print() 関数についての注意\n",
        "- Jupyter NotebookやPythonのインタラクティブシェルでは、変数だけタイプするとその内容を表示する\n",
        "- さっと確認したい時は便利\n",
        "- しかし、表示されるのはJupyter Notebookでは、ひとつのセル内の最後の1行のみ\n",
        "- print()を使うと、いずれも表示できる\n",
        "- スクリプトを書く際には、画面に出力したい内容は必ず print() で記載する"
      ]
    },
    {
      "cell_type": "code",
      "execution_count": 16,
      "metadata": {
        "id": "iukT6b9IK_Ag"
      },
      "outputs": [],
      "source": [
        "# 変数 A と B に値を代入する\n",
        "A = 'Hello'\n",
        "B = 'World'"
      ]
    },
    {
      "cell_type": "code",
      "execution_count": 17,
      "metadata": {
        "id": "No_53bsyK_Ag",
        "outputId": "c3f84fed-cb0e-4a2d-f161-67fb74aec36c",
        "colab": {
          "base_uri": "https://localhost:8080/",
          "height": 35
        }
      },
      "outputs": [
        {
          "output_type": "execute_result",
          "data": {
            "text/plain": [
              "'World'"
            ],
            "application/vnd.google.colaboratory.intrinsic+json": {
              "type": "string"
            }
          },
          "metadata": {},
          "execution_count": 17
        }
      ],
      "source": [
        "# A と B を行を変えて記載すると、最後の行しか表示されない\n",
        "A\n",
        "B"
      ]
    },
    {
      "cell_type": "code",
      "execution_count": 18,
      "metadata": {
        "id": "zf5dN5jSK_Ag",
        "outputId": "bf8cea5c-e2e3-4439-e5c9-9bc4c440036d",
        "colab": {
          "base_uri": "https://localhost:8080/"
        }
      },
      "outputs": [
        {
          "output_type": "stream",
          "name": "stdout",
          "text": [
            "Hello\n",
            "World\n"
          ]
        }
      ],
      "source": [
        "# print() を使うと表示される\n",
        "print(A)\n",
        "print(B)"
      ]
    },
    {
      "cell_type": "code",
      "execution_count": 19,
      "metadata": {
        "id": "vcQ5BiPUK_Ag",
        "outputId": "e5533896-b72b-472b-e9b3-be2f764e19df",
        "colab": {
          "base_uri": "https://localhost:8080/"
        }
      },
      "outputs": [
        {
          "output_type": "execute_result",
          "data": {
            "text/plain": [
              "('Hello', 'World')"
            ]
          },
          "metadata": {},
          "execution_count": 19
        }
      ],
      "source": [
        "# カンマで区切って1行で表示すると表示できる\n",
        "A, B"
      ]
    },
    {
      "cell_type": "code",
      "execution_count": 20,
      "metadata": {
        "id": "5f9AmH0MK_Ag",
        "outputId": "2cffe5c8-42ce-418e-a0a0-f7c90f4ac575",
        "colab": {
          "base_uri": "https://localhost:8080/"
        }
      },
      "outputs": [
        {
          "output_type": "stream",
          "name": "stdout",
          "text": [
            "Hello World\n"
          ]
        }
      ],
      "source": [
        "# print()関数内でも、カンマで区切って表示することができる\n",
        "print(A, B)"
      ]
    },
    {
      "cell_type": "markdown",
      "source": [
        "### 2.6. ミニテスト\n",
        "1. オブジェクトC に 'I want to master neuroimaging analysis.' を代入してください。\n",
        "1. オブジェクトC を表示してください。\n",
        "1. この文の文字数を求めてください。\n",
        "1. オブジェクトC を すべて大文字で表示してください。\n",
        "1. replaceメソッドを使って、'neuroimaging' を 'statistical' に置換したものをオブジェクトDに代入してください。\n",
        "1. オブジェクトCとオブジェクトDを1行で表示してください。"
      ],
      "metadata": {
        "id": "_5qR_q8ig8dk"
      }
    },
    {
      "cell_type": "code",
      "source": [
        "# ミニテスト\n",
        "# オブジェクトCに 'I want to master neuroimagin analysis' を代入してください。\n"
      ],
      "metadata": {
        "id": "oAaOi9yzhuN6"
      },
      "execution_count": null,
      "outputs": []
    },
    {
      "cell_type": "code",
      "source": [
        "# Cを表示してください\n"
      ],
      "metadata": {
        "id": "UFAQC4LkiNVH"
      },
      "execution_count": null,
      "outputs": []
    },
    {
      "cell_type": "code",
      "source": [
        "# Cの文字数を求めてください\n"
      ],
      "metadata": {
        "id": "DZpGM6_GiNP-"
      },
      "execution_count": null,
      "outputs": []
    },
    {
      "cell_type": "code",
      "source": [
        "# Cをすべて大文字で表示してください\n"
      ],
      "metadata": {
        "id": "HR4aR9aaiNKu"
      },
      "execution_count": null,
      "outputs": []
    },
    {
      "cell_type": "code",
      "source": [
        "# replaceメソッドをつかって、'neuroimaging' を 'statistical' に置換したものをオブジェクトDに代入してください\n"
      ],
      "metadata": {
        "id": "CnsV873tiM2v"
      },
      "execution_count": null,
      "outputs": []
    },
    {
      "cell_type": "code",
      "source": [
        "# オブジェクトCとオブジェクトDを1行で表示してください。\n"
      ],
      "metadata": {
        "id": "OiObCSi9kc_e"
      },
      "execution_count": 21,
      "outputs": []
    },
    {
      "cell_type": "markdown",
      "source": [
        "### 2.6. ミニテストの回答\n",
        "\n",
        "1. オブジェクトC に 'I want to master neuroimaging analysis.' を代入してください。\n",
        "    ```\n",
        "    C = 'I want to master neuroimaging analysis'\n",
        "    ```\n",
        "\n",
        "1. オブジェクトC を表示してください。\n",
        "    ```\n",
        "    print(C)\n",
        "    ```\n",
        "1. この文の文字数を求めてください。\n",
        "    ```\n",
        "    len(C)\n",
        "    ```\n",
        "\n",
        "1. オブジェクトC を すべて大文字で表示してください。\n",
        "    ```\n",
        "    C.upper()\n",
        "    ```\n",
        "\n",
        "1. replaceメソッドを使って、'neuroimaging' を 'statistical' に置換したものをオブジェクトDに代入してください。\n",
        "    ```\n",
        "    D = C.replace('neuroimaging','statistical')\n",
        "    ```\n",
        "\n",
        "1. オブジェクトCとオブジェクトDを1行で表示してください。\n",
        "    ```\n",
        "    print(C, D)\n",
        "    ```\n"
      ],
      "metadata": {
        "id": "I0AQumEDi9h9"
      }
    },
    {
      "cell_type": "markdown",
      "metadata": {
        "id": "anMcrUwUK_Ag"
      },
      "source": [
        "## 3. 算術計算\n",
        "- 四則演算は以下のように行う\n",
        "    - 足し算: +\n",
        "    - 引き算: -\n",
        "    - 掛け算: *\n",
        "    - 割り算: /\n",
        "    - 累乗: **\n",
        "    - 割り算の商: //\n",
        "    - 割り算の余り: %\n",
        "- かっこの計算もできる。ただし、中括弧{}も大かっこ[]もすべて()を使う"
      ]
    },
    {
      "cell_type": "code",
      "execution_count": null,
      "metadata": {
        "id": "qGrfCKMWK_Ag"
      },
      "outputs": [],
      "source": [
        "# 2の10乗\n",
        "2 ** 10"
      ]
    },
    {
      "cell_type": "code",
      "source": [
        "# {(2+5)×(7-2)}÷3\n",
        "((2+5)*(7-2))/5"
      ],
      "metadata": {
        "id": "NDGp6TLcmIMV",
        "outputId": "2f71ef1a-e81d-45e4-ecc6-1dbc4138bcb3",
        "colab": {
          "base_uri": "https://localhost:8080/"
        }
      },
      "execution_count": 23,
      "outputs": [
        {
          "output_type": "execute_result",
          "data": {
            "text/plain": [
              "7.0"
            ]
          },
          "metadata": {},
          "execution_count": 23
        }
      ]
    },
    {
      "cell_type": "code",
      "execution_count": null,
      "metadata": {
        "id": "U6ryowZuK_Ag"
      },
      "outputs": [],
      "source": [
        "# 15を7で割った時の商\n",
        "15 // 7"
      ]
    },
    {
      "cell_type": "code",
      "execution_count": null,
      "metadata": {
        "id": "EXC4NRaYK_Ah"
      },
      "outputs": [],
      "source": [
        "# 256を7で割った時の余り\n",
        "# 余りは条件分岐でよく使用する\n",
        "# 4の倍数→4で割った余りが0\n",
        "256 % 7"
      ]
    },
    {
      "cell_type": "markdown",
      "source": [
        "### 3.1. ミニテスト\n",
        "- 偏差値は 50 + 10 * (点数 - 平均値) / 標準偏差 で求められます。平均点 60, 標準偏差 20 の時に、A君は80点、B君は50点でした。A君とB君の偏差値を表示してください。\n"
      ],
      "metadata": {
        "id": "DgXfJrRCkrgJ"
      }
    },
    {
      "cell_type": "code",
      "source": [
        "# A君の偏差値\n",
        "print(50 + 10 * (80 - 60) / 20)\n",
        "# B君の偏差値\n",
        "print(50 + 10 * (50 - 60) / 20)\n"
      ],
      "metadata": {
        "id": "3oCfWOLMmlFx",
        "outputId": "17e67be1-4a80-4d1e-fd7f-e96d44478573",
        "colab": {
          "base_uri": "https://localhost:8080/"
        }
      },
      "execution_count": 26,
      "outputs": [
        {
          "output_type": "stream",
          "name": "stdout",
          "text": [
            "60.0\n",
            "45.0\n"
          ]
        }
      ]
    },
    {
      "cell_type": "markdown",
      "source": [
        "#### ミニテストの回答\n",
        "- A君の偏差値\n",
        "    ```\n",
        "    print(50 + 10 * (80 - 60) / 20)\n",
        "    ```\n",
        "\n",
        "- B君の偏差値\n",
        "    ```\n",
        "    print(50 + 10 * (80 - 60) / 20)\n",
        "    ```\n"
      ],
      "metadata": {
        "id": "zbrqdoyfnHxM"
      }
    },
    {
      "cell_type": "markdown",
      "metadata": {
        "id": "Mpo_mEN7K_Ao"
      },
      "source": [
        "## 4. 変数\n",
        "- x や y などのアルファベットを使って「**変数**」を定義できる。変数は、= を使って値を代入する\n",
        "    - プログラミング言語では、**= は等式ではなく、代入の記号である**ことに注意\n",
        "    - 変数はオブジェクトのひとつ (オブジェクトはより抽象的な表現)\n",
        "- 変数の型は、変数に代入される値に応じて自動で設定される\n",
        "- Pythonでは、一行で複数の変数を代入することができる"
      ]
    },
    {
      "cell_type": "code",
      "execution_count": null,
      "metadata": {
        "id": "t8jHOhA0K_Ap"
      },
      "outputs": [],
      "source": [
        "# x に 100, y に 3.14 を代入する\n",
        "x, y = 100, 3.14\n",
        "\n",
        "# x * y を z に代入する\n",
        "z = x * y"
      ]
    },
    {
      "cell_type": "code",
      "execution_count": null,
      "metadata": {
        "id": "5wTqQX19K_Ap"
      },
      "outputs": [],
      "source": [
        "# zの内容を表示する\n",
        "# 変数だけをタイプするとその変数の内容が表示される\n",
        "# 整数型 int に 浮動小数点型 float をかけると、float になる\n",
        "z"
      ]
    },
    {
      "cell_type": "code",
      "execution_count": null,
      "metadata": {
        "id": "IZenUABFK_Ap"
      },
      "outputs": [],
      "source": [
        "# z のデータ型を確認する\n",
        "# print() を使わないと、型のみ表示される\n",
        "type(z)"
      ]
    },
    {
      "cell_type": "code",
      "execution_count": null,
      "metadata": {
        "id": "WFi_JMdjK_Ap"
      },
      "outputs": [],
      "source": [
        "# プログラミング言語の多くは、ある変数に作業をしたものを、同じ変数に代入するということができる\n",
        "# x に 50 を足したものを 新たな x とする\n",
        "# = は等号ではなく、代入の記号であることに注意！\n",
        "x = x + 50\n",
        "print(x) # もともと xは100だったので、今、xは150になっているはず\n",
        "\n",
        "# 同じことを以下の表示でも行える\n",
        "\n",
        "x += 50 # x = x + 50 と同義；これを「加算代入」という\n",
        "print(x) # 200 になっているはず"
      ]
    },
    {
      "cell_type": "markdown",
      "source": [
        "### 4.1. ミニテスト\n",
        "- A君は、最初1000円のお小遣いを持っていました。コンビニに行って、300円使いました。A君の今のお小遣いを減算代入 -= を使って更新してください\n"
      ],
      "metadata": {
        "id": "wU05R0HCpysV"
      }
    },
    {
      "cell_type": "code",
      "source": [
        "# A君の最初に持っている小遣いを変数 a に代入\n",
        "a = 1000\n",
        "print('残高:', a)\n",
        "# 減算代入を使って、300円使ったという状況で、a を更新 (以下に減算代入の記号を記載してください)\n",
        "a   300\n",
        "print('残高:', a)"
      ],
      "metadata": {
        "id": "tAQ4EXWIqWS_",
        "outputId": "5cff6e0c-84c9-4959-89d1-c35644d25c64",
        "colab": {
          "base_uri": "https://localhost:8080/"
        }
      },
      "execution_count": 28,
      "outputs": [
        {
          "output_type": "stream",
          "name": "stdout",
          "text": [
            "残高: 1000\n",
            "残高: 700\n"
          ]
        }
      ]
    },
    {
      "cell_type": "markdown",
      "source": [
        "#### ミニテストの回答\n",
        "\n",
        "```\n",
        "# A君の最初に持っている小遣いを変数 a に代入\n",
        "a = 1000\n",
        "print('残高:', a)\n",
        "# 減算代入を使って、300円使ったという状況で、a を更新 (以下に減算代入の記号を記載してください)\n",
        "a -= 300\n",
        "print('残高:', a)\n",
        "```\n",
        "\n"
      ],
      "metadata": {
        "id": "dGnqI2WZqpac"
      }
    },
    {
      "cell_type": "markdown",
      "metadata": {
        "id": "siB-awWgK_Ah"
      },
      "source": [
        "## 5. 文字列の結合\n",
        "- 文字列は、\"+\" で結合できる。\n",
        "- str型以外の型ととstr型を結合したいときには、他の型をstr型に変換する\n",
        "- f文を使うと、変数を簡単に表示できる\n",
        "- 文字列は、\"*\" で複数回繰り返すことができる"
      ]
    },
    {
      "cell_type": "code",
      "execution_count": 30,
      "metadata": {
        "id": "od9oddhqK_Ah"
      },
      "outputs": [],
      "source": [
        "# MRI という文字列を str1 に代入\n",
        "str1 = 'MRI'"
      ]
    },
    {
      "cell_type": "code",
      "execution_count": 31,
      "metadata": {
        "id": "HvzgDRy9K_Ah",
        "outputId": "214884f4-0572-4b39-c4e5-f3a69cce8822",
        "colab": {
          "base_uri": "https://localhost:8080/"
        }
      },
      "outputs": [
        {
          "output_type": "stream",
          "name": "stdout",
          "text": [
            "functional MRI\n"
          ]
        }
      ],
      "source": [
        "# functional という単語と str1 を結合\n",
        "print('functional ' + str1)"
      ]
    },
    {
      "cell_type": "code",
      "execution_count": 32,
      "metadata": {
        "id": "DHAJSraeK_Ah"
      },
      "outputs": [],
      "source": [
        "# nextyear という変数に 2024 を代入\n",
        "nextyear = 2024"
      ]
    },
    {
      "cell_type": "code",
      "execution_count": 33,
      "metadata": {
        "scrolled": true,
        "id": "_R-pl9-oK_Ah",
        "outputId": "fb9bad92-cc96-4f1c-9b7a-68b178e6e157",
        "colab": {
          "base_uri": "https://localhost:8080/",
          "height": 196
        }
      },
      "outputs": [
        {
          "output_type": "error",
          "ename": "TypeError",
          "evalue": "ignored",
          "traceback": [
            "\u001b[0;31m---------------------------------------------------------------------------\u001b[0m",
            "\u001b[0;31mTypeError\u001b[0m                                 Traceback (most recent call last)",
            "\u001b[0;32m<ipython-input-33-2dba831798d5>\u001b[0m in \u001b[0;36m<cell line: 2>\u001b[0;34m()\u001b[0m\n\u001b[1;32m      1\u001b[0m \u001b[0;31m# Happy New Year, 2022! と表示したいが、そのまま + ではエラーになる\u001b[0m\u001b[0;34m\u001b[0m\u001b[0;34m\u001b[0m\u001b[0m\n\u001b[0;32m----> 2\u001b[0;31m \u001b[0mprint\u001b[0m\u001b[0;34m(\u001b[0m\u001b[0;34m'Happy New Year, '\u001b[0m \u001b[0;34m+\u001b[0m \u001b[0mnextyear\u001b[0m \u001b[0;34m+\u001b[0m \u001b[0;34m'!'\u001b[0m\u001b[0;34m)\u001b[0m\u001b[0;34m\u001b[0m\u001b[0;34m\u001b[0m\u001b[0m\n\u001b[0m",
            "\u001b[0;31mTypeError\u001b[0m: can only concatenate str (not \"int\") to str"
          ]
        }
      ],
      "source": [
        "# Happy New Year, 2022! と表示したいが、そのまま + ではエラーになる\n",
        "# エラーに着目\n",
        "# TypeError: can only concatenate str (not \"int\") to str\n",
        "# 型エラー: str型はstr型にしか結合(concatenate)できない。int型は結合できない　というメッセージ\n",
        "\n",
        "print('Happy New Year, ' + nextyear + '!')"
      ]
    },
    {
      "cell_type": "code",
      "execution_count": 34,
      "metadata": {
        "id": "EFC2kK5zK_Ah",
        "outputId": "688f30f4-0c40-41ca-9f83-433ccd030c0c",
        "colab": {
          "base_uri": "https://localhost:8080/"
        }
      },
      "outputs": [
        {
          "output_type": "stream",
          "name": "stdout",
          "text": [
            "Happy New Year, 2024!\n"
          ]
        }
      ],
      "source": [
        "# str(year) とすることで、変数year がstr型になって、結合できる\n",
        "print('Happy New Year, ' + str(nextyear) + '!')"
      ]
    },
    {
      "cell_type": "code",
      "source": [
        "# + を使わず , でつなげれば表示できる\n",
        "print('Happy New Year,' , nextyear, '!')"
      ],
      "metadata": {
        "id": "0HxnfmjEt8t7",
        "outputId": "a8d17509-503e-4548-cfb4-612644106b25",
        "colab": {
          "base_uri": "https://localhost:8080/"
        }
      },
      "execution_count": 38,
      "outputs": [
        {
          "output_type": "stream",
          "name": "stdout",
          "text": [
            "Happy New Year, 2024 !\n"
          ]
        }
      ]
    },
    {
      "cell_type": "code",
      "execution_count": 40,
      "metadata": {
        "id": "vzz-jr16K_Ao",
        "outputId": "47a52be0-5644-431e-a83c-f010c8ca0121",
        "colab": {
          "base_uri": "https://localhost:8080/"
        }
      },
      "outputs": [
        {
          "output_type": "stream",
          "name": "stdout",
          "text": [
            "Happy New Year, 2024!\n"
          ]
        }
      ],
      "source": [
        "# f文字列を使うと、変数の扱いが簡単になる (python 3.6で導入された機能)\n",
        "# f''の中に変数が出現する場所を {変数} で示すだけ\n",
        "print(f'Happy New Year, {nextyear}!')"
      ]
    },
    {
      "cell_type": "code",
      "execution_count": 41,
      "metadata": {
        "id": "q_sCNy_fK_Ao",
        "outputId": "ee0df9ee-e2f0-4bb1-b007-e0cdd92f5e8a",
        "colab": {
          "base_uri": "https://localhost:8080/"
        }
      },
      "outputs": [
        {
          "output_type": "stream",
          "name": "stdout",
          "text": [
            "最高!最高!最高!\n"
          ]
        }
      ],
      "source": [
        "# 最高! を3回表示する\n",
        "print('最高!' *3)"
      ]
    },
    {
      "cell_type": "markdown",
      "metadata": {
        "id": "Rim1yyXKK_Ap"
      },
      "source": [
        "## G. リスト （配列）\n",
        "- Pythonでは、変数に単一の数値だけでなく、リストとしてデータをまとめることができる\n",
        "- リストは、[ ] を使って記載する\n",
        "- Pythonでは、複数の要素を記載する際は必ずカンマを利用する"
      ]
    },
    {
      "cell_type": "code",
      "execution_count": null,
      "metadata": {
        "id": "FZtVlTyvK_Ap"
      },
      "outputs": [],
      "source": [
        "# リストの作成\n",
        "a = [1, 2, 3, 4, 5]"
      ]
    },
    {
      "cell_type": "code",
      "execution_count": null,
      "metadata": {
        "id": "JRtCPpPoK_Ap"
      },
      "outputs": [],
      "source": [
        "# リストを表示する\n",
        "a"
      ]
    },
    {
      "cell_type": "code",
      "execution_count": null,
      "metadata": {
        "id": "lZpLkx4xK_Ap"
      },
      "outputs": [],
      "source": [
        "# type() 関数を使って型を確認する\n",
        "type(a)"
      ]
    },
    {
      "cell_type": "code",
      "execution_count": null,
      "metadata": {
        "id": "7YLKTi-BK_Ap"
      },
      "outputs": [],
      "source": [
        "# len() 関数を使って、リストの要素数を表示する\n",
        "len(a)"
      ]
    },
    {
      "cell_type": "code",
      "execution_count": null,
      "metadata": {
        "id": "zWpZvqB3K_Ap"
      },
      "outputs": [],
      "source": [
        "# appendメソッド を使うと、リストに値を追加できる\n",
        "a.append(6) # リストに6を追加\n",
        "print(a)"
      ]
    },
    {
      "cell_type": "markdown",
      "metadata": {
        "id": "c3W2BlL8K_Ap"
      },
      "source": [
        "### インデックス\n",
        "- リストの要素にアクセスするには、インデックスを使用する\n",
        "- Pythonでは、**インデックスは 0 から始まる**\n",
        "- `a[1]` は、リスト a の2番めの要素を意味する\n",
        "- インデックス -1 は、最後の値を示す\n",
        "- インデックスを使用すると、個別に要素を変更できる。このように要素を変更できることを「**ミュータブル**」という"
      ]
    },
    {
      "cell_type": "code",
      "execution_count": null,
      "metadata": {
        "id": "zcRn2nvMK_Ap"
      },
      "outputs": [],
      "source": [
        "a[1]"
      ]
    },
    {
      "cell_type": "code",
      "execution_count": null,
      "metadata": {
        "id": "WwMexNazK_Ap"
      },
      "outputs": [],
      "source": [
        "# a[-1] は、今の場合、a[5] と同じ意味\n",
        "a[-1]"
      ]
    },
    {
      "cell_type": "code",
      "execution_count": null,
      "metadata": {
        "id": "-SgP8cZ_K_Ap"
      },
      "outputs": [],
      "source": [
        "# リストa の5番目の要素を99に変更する\n",
        "a[4] = 99"
      ]
    },
    {
      "cell_type": "code",
      "execution_count": null,
      "metadata": {
        "id": "UUGyJihoK_Ap"
      },
      "outputs": [],
      "source": [
        "# a を表示する\n",
        "print(a)"
      ]
    },
    {
      "cell_type": "markdown",
      "metadata": {
        "id": "0cvYH-jVK_Ap"
      },
      "source": [
        "### スライシング\n",
        "- Pythonでは、スライシングという方法を使って、リストの中の複数の値を取り出すことができる\n",
        "- スライシングは[最初のインデックス:最後のインデックス]のように表現し、その間の要素が表示される\n",
        "- スライシングは以下のように、インデックスを見るとわかりやすい\n",
        "\n",
        "```\n",
        "       | n | e | u | r | o | n |\n",
        "       +   +   +   +   +   +   +\n",
        "index  0   1   2   3   4   5   6    \n",
        "      -6  -5  -4  -3  -2  -1\n",
        " ```\n",
        "\n",
        " - [0:3] はインデックス0**以上**3**未満**と覚えるのもひとつ"
      ]
    },
    {
      "cell_type": "code",
      "execution_count": null,
      "metadata": {
        "id": "6xtPHDHLK_Ap"
      },
      "outputs": [],
      "source": [
        "# n e u r o n をリストとして変数 b に代入\n",
        "b = ['n', 'e', 'u', 'r', 'o', 'n']\n",
        "# bを表示\n",
        "b"
      ]
    },
    {
      "cell_type": "code",
      "execution_count": null,
      "metadata": {
        "id": "iA7fEnVWK_Aq"
      },
      "outputs": [],
      "source": [
        "# b[0:2] は、インデックス0とインデックス2の間にある要素が表示される\n",
        "# インデックス0以上2未満と考えると0と1\n",
        "# 今の場合は n と e になる\n",
        "b[0:2]"
      ]
    },
    {
      "cell_type": "code",
      "execution_count": null,
      "metadata": {
        "id": "I-Vnby1EK_Aq"
      },
      "outputs": [],
      "source": [
        "# b[1:] のように、最初のインデックスだけ指定すると、そこから最後まで表示される\n",
        "# 今の場合は e u r o n となる\n",
        "b[1:]"
      ]
    },
    {
      "cell_type": "code",
      "execution_count": null,
      "metadata": {
        "id": "ziexZ7bbK_Aq"
      },
      "outputs": [],
      "source": [
        "# b[:3] のように、最後のインデックスだけ指定すると、最初からそのインデックスの前まで表示される\n",
        "# インデックスが3未満なので 0, 1, 2 の3つ\n",
        "# 今の場合は n e u となる\n",
        "b[:3]"
      ]
    },
    {
      "cell_type": "code",
      "execution_count": null,
      "metadata": {
        "id": "LMOjpIkFK_Aq"
      },
      "outputs": [],
      "source": [
        "# b[:-1] は、今の場合は、b[:5] と同義\n",
        "b[:-1]"
      ]
    },
    {
      "cell_type": "code",
      "execution_count": null,
      "metadata": {
        "id": "5HmM0PNAK_Aq"
      },
      "outputs": [],
      "source": [
        "# b[:-2] は、今の場合は、b[:4] と同義\n",
        "b[:-2]"
      ]
    },
    {
      "cell_type": "markdown",
      "metadata": {
        "id": "wtJ6qwmjK_Aq"
      },
      "source": [
        "- 以上のスライシングは、str型に対しても行うことができる\n",
        "- 文字列の一部を抜き出したい時などに便利である"
      ]
    },
    {
      "cell_type": "code",
      "execution_count": null,
      "metadata": {
        "id": "rbb86UyiK_Aq"
      },
      "outputs": [],
      "source": [
        "# 文字列として neuron を 変数 c に代入\n",
        "c = 'neuron'\n",
        "# 変数 c　のインデックス0以上3未満、すなわち0,1,2を表示\n",
        "c[0:3]"
      ]
    },
    {
      "cell_type": "markdown",
      "metadata": {
        "id": "5ODT1ibjK_Aq"
      },
      "source": [
        "### ミニテスト\n",
        "- 変数 date に 2023-06-30 という値が入っています。ここから、インデックスを使って変数 year, month, day を作ってください"
      ]
    },
    {
      "cell_type": "code",
      "execution_count": null,
      "metadata": {
        "id": "g6bF5FORK_Aq"
      },
      "outputs": [],
      "source": [
        "date = '2023-06-30'\n",
        "### 以下に解答を書いてください\n",
        "year =\n",
        "month =\n",
        "day ="
      ]
    },
    {
      "cell_type": "code",
      "execution_count": null,
      "metadata": {
        "id": "nwXkpjwhK_Aq"
      },
      "outputs": [],
      "source": [
        "# 2023 06 30 となったら正解\n",
        "print(year, month, day)"
      ]
    },
    {
      "cell_type": "code",
      "execution_count": null,
      "metadata": {
        "id": "gmttCiK1K_Aq"
      },
      "outputs": [],
      "source": [
        "# 正解\n",
        "date = '2023-06-20'\n",
        "# 2023-06-20 の year は4文字なので、インデックスは 0-3 0以上4未満となる\n",
        "year = date[0:4]\n",
        "# month のインデックスは、5と6なので、5以上7未満となる\n",
        "month = date[5:7]\n",
        "# date のインデックスは、8と9なので、8以上10未満となる\n",
        "day = date[8:10]\n",
        "\n",
        "print(year, month, day)"
      ]
    },
    {
      "cell_type": "markdown",
      "metadata": {
        "id": "EW3ksbTCK_Aq"
      },
      "source": [
        "## H. タプル\n",
        "- タプルはリストとほとんど同じだがひとつ異なる\n",
        "- タプルはミュータブルではない。つまり、タプルの要素も、要素の数も変更不可能\n",
        "- 値を変更したくない場合などに有用\n",
        "- タプルは ( ) を使って記載する"
      ]
    },
    {
      "cell_type": "code",
      "execution_count": null,
      "metadata": {
        "id": "jx7xX9piK_Aq"
      },
      "outputs": [],
      "source": [
        "# 変数 a をタプルとして設定\n",
        "a = (1, 2, 3, 4, 5)"
      ]
    },
    {
      "cell_type": "code",
      "execution_count": null,
      "metadata": {
        "id": "Vz9dMPIGK_Aq"
      },
      "outputs": [],
      "source": [
        "# タプルはリストと同様、インデックスを指定して取り出せる\n",
        "# インデックスは [] で指定する\n",
        "a[0]"
      ]
    },
    {
      "cell_type": "code",
      "execution_count": null,
      "metadata": {
        "id": "g8ETp8X6K_Aq"
      },
      "outputs": [],
      "source": [
        "# タプルは要素の内容を変更できない\n",
        "# 以下はエラーとなる\n",
        "a[4] = 99"
      ]
    },
    {
      "cell_type": "markdown",
      "metadata": {
        "id": "uU4Wf4vOK_Aq"
      },
      "source": [
        "## I. ディクショナリ\n",
        "- ディクショナリは「**キー**」と「**値**」をペアにしてデータを格納する\n",
        "- 値は数値だけでなく、文字列なども格納できる\n",
        "- ディクショナリは、{キー:値} のように代入する\n",
        "- `変数名['キー']` で値を取り出すことができる"
      ]
    },
    {
      "cell_type": "code",
      "execution_count": null,
      "metadata": {
        "id": "lvtjDY34K_Aq"
      },
      "outputs": [],
      "source": [
        "# 変数 header に TR=2000, TE=6.5 を登録する\n",
        "header = {'TR':2000, 'TE':6.5}"
      ]
    },
    {
      "cell_type": "code",
      "execution_count": null,
      "metadata": {
        "id": "mR_tRAOlK_Aq"
      },
      "outputs": [],
      "source": [
        "# 変数 header の型を type() 関数で確認する\n",
        "print(type(header))"
      ]
    },
    {
      "cell_type": "code",
      "execution_count": null,
      "metadata": {
        "id": "GQFd0Kv9K_Aq"
      },
      "outputs": [],
      "source": [
        "# キー TR の値を抽出する\n",
        "header['TR']"
      ]
    },
    {
      "cell_type": "code",
      "execution_count": null,
      "metadata": {
        "id": "OHRfTJX9K_Ar"
      },
      "outputs": [],
      "source": [
        "# キーと値のペアを追加する\n",
        "header['Manufacturer'] = 'Siemens'"
      ]
    },
    {
      "cell_type": "code",
      "execution_count": null,
      "metadata": {
        "id": "_GOehF-WK_Ar"
      },
      "outputs": [],
      "source": [
        "# 追加されたかどうかを確認する\n",
        "header"
      ]
    },
    {
      "cell_type": "code",
      "execution_count": null,
      "metadata": {
        "id": "cdLixyHhK_Ar"
      },
      "outputs": [],
      "source": [
        "# キーと値の一覧は、メソッド items() で取得できる\n",
        "header.items()"
      ]
    },
    {
      "cell_type": "code",
      "execution_count": null,
      "metadata": {
        "id": "ZGENhpaxK_Ar"
      },
      "outputs": [],
      "source": [
        "#キー一覧は、メソッド keys() で取得できる\n",
        "header.keys()"
      ]
    },
    {
      "cell_type": "code",
      "execution_count": null,
      "metadata": {
        "id": "TbJ5lWEwK_Ar"
      },
      "outputs": [],
      "source": [
        "#値一覧は、メソッド values() で取得できる\n",
        "header.values()"
      ]
    },
    {
      "cell_type": "markdown",
      "metadata": {
        "id": "aaZ-q2cgK_Ar"
      },
      "source": [
        "## J. ブーリアン\n",
        "- ブーリアンは True と False をとる特殊な型。bool型と言われる\n",
        "- bool型は、and, or, not が使える"
      ]
    },
    {
      "cell_type": "code",
      "execution_count": null,
      "metadata": {
        "id": "63Yv2NQoK_Ar"
      },
      "outputs": [],
      "source": [
        "MRI = True   # MRIは撮像した\n",
        "SPECT = False  # SPECTは撮像していない"
      ]
    },
    {
      "cell_type": "code",
      "execution_count": null,
      "metadata": {
        "id": "Et2OkMgCK_Ar"
      },
      "outputs": [],
      "source": [
        "# 型は bool型\n",
        "print(type(MRI))"
      ]
    },
    {
      "cell_type": "code",
      "execution_count": null,
      "metadata": {
        "id": "F5lfJeB6K_Ar"
      },
      "outputs": [],
      "source": [
        "# True の反対は False\n",
        "print(not MRI)"
      ]
    },
    {
      "cell_type": "code",
      "execution_count": null,
      "metadata": {
        "id": "wYs0U5KUK_Ar"
      },
      "outputs": [],
      "source": [
        "# and はどちらも True のときだけ True\n",
        "print(MRI and SPECT)"
      ]
    },
    {
      "cell_type": "code",
      "execution_count": null,
      "metadata": {
        "id": "13RlJSUCK_Ar"
      },
      "outputs": [],
      "source": [
        "# or はどちらかが True ならば True (両方 True でも True)\n",
        "print(MRI or SPECT)"
      ]
    },
    {
      "cell_type": "markdown",
      "metadata": {
        "id": "OQz7BETvK_Ar"
      },
      "source": [
        "## K. if文による条件分岐\n",
        "- 条件に応じて分岐するには、ifを使う\n",
        "- 書式は以下\n",
        "\n",
        "```\n",
        "if 条件1:\n",
        "    条件1が真の時のブロック文1\n",
        "elif 条件2:\n",
        "    条件2が真の時のブロック文2\n",
        "else:\n",
        "    条件が偽の時のブロック文3\n",
        "```\n",
        "\n",
        "- 条件の最後に必ず `:` をつける\n",
        "- 条件の後のブロック文には、必ずインデント(半角スペース4文字もしくは2文字)を入れる\n",
        "    - インデント: 文章の行頭に空白を挿入して先頭の文字を右にずらすこと"
      ]
    },
    {
      "cell_type": "code",
      "execution_count": null,
      "metadata": {
        "id": "Q4he4L3QK_Ar"
      },
      "outputs": [],
      "source": [
        "# 条件によって成績をつけるプログラム\n",
        "# 80点以上はA, 70点以上はB, 60点以上はC, それ以外はD\n",
        "# print文は format() メソッドを使うと上手に表示できる\n",
        "\n",
        "score = 75\n",
        "\n",
        "if score >= 80:\n",
        "    grade = 'A'\n",
        "elif score >= 70:\n",
        "    grade = 'B'\n",
        "elif score >= 60:\n",
        "    grade = 'C'\n",
        "else:\n",
        "    grade = 'D'\n",
        "print('Your grade is {}'.format(grade))"
      ]
    },
    {
      "cell_type": "markdown",
      "metadata": {
        "id": "jHXVaPvxK_Ar"
      },
      "source": [
        "## L. 関数 function\n",
        "- 上記の内容は その都度、`score = 75` を書き換えないといけない\n",
        "- このような時、関数を定義することができる\n",
        "- 関数は英語では function というように、「機能」\n",
        "- ここでの関数は、「自分の行いたい機能を実装する」というような意味として考えるとよい\n",
        "- `def 自作関数名(引数):` の後に行いたい処理を記載すれば関数となる\n",
        "- return で関数の戻り値を指定する\n",
        "- なお、関数の中で定義する変数は、関数の外では使うことはできない"
      ]
    },
    {
      "cell_type": "code",
      "execution_count": null,
      "metadata": {
        "id": "y-LAB_ZDK_Ar"
      },
      "outputs": [],
      "source": [
        "def grading(score):\n",
        "    # スコアによって成績を変数 g に代入\n",
        "    if score >= 80:\n",
        "        g = 'A'\n",
        "    elif score >= 70:\n",
        "        g = 'B'\n",
        "    elif score >= 60:\n",
        "        g = 'C'\n",
        "    else:\n",
        "        g = 'D'\n",
        "    # return g によってこの関数を実行すると、変数 g が戻り値となる\n",
        "    return g\n",
        "\n",
        "def display_grade(grade):\n",
        "    # 表示だけがメインの関数ならば戻り値は必要ないので、return は不要\n",
        "    print('あなたの成績は {} です'.format(grade))\n"
      ]
    },
    {
      "cell_type": "code",
      "execution_count": null,
      "metadata": {
        "scrolled": true,
        "id": "zDbe1OohK_Ar"
      },
      "outputs": [],
      "source": [
        "# 自作のgrading関数の戻り値を変数 grade に代入する\n",
        "s = int(input('得点は?: '))\n",
        "grade = grading(s)"
      ]
    },
    {
      "cell_type": "code",
      "execution_count": null,
      "metadata": {
        "id": "sRgfBhu1K_Ar"
      },
      "outputs": [],
      "source": [
        "# 変数 grade の内容を表示\n",
        "print(grade)"
      ]
    },
    {
      "cell_type": "code",
      "execution_count": null,
      "metadata": {
        "id": "Jjr8AapVK_Ar"
      },
      "outputs": [],
      "source": [
        "# この結果を自作の dispaly_grade 関数に代入する\n",
        "display_grade(grade)"
      ]
    },
    {
      "cell_type": "code",
      "execution_count": null,
      "metadata": {
        "id": "czztkkg7K_Ar"
      },
      "outputs": [],
      "source": [
        "# 関数を組み合わせれば一行で表現可能\n",
        "s = int(input('得点は?: '))\n",
        "display_grade(grading(s))"
      ]
    },
    {
      "cell_type": "markdown",
      "metadata": {
        "id": "wLYaG8KrK_Ar"
      },
      "source": [
        "## M. for文によるループ処理\n",
        "- Pythonでは様々な方法を使ってループ処理をすることができる\n",
        "    - range() 関数を使った一定回数の繰り返し\n",
        "    - リストを使ったリストの要素に対する繰り返し\n",
        "    - ディクショナリを使ったディクショナリの要素に対する繰り返し\n",
        "- 書式は以下\n",
        "\n",
        "```\n",
        "for 変数 in range/リスト/ディクショナリ:\n",
        "    ブロック文\n",
        "```"
      ]
    },
    {
      "cell_type": "code",
      "execution_count": null,
      "metadata": {
        "id": "gvKN_AiIK_As"
      },
      "outputs": [],
      "source": [
        "# range() 関数を使った一定回数の繰り返し\n",
        "# range(5) は 0,1,2,3,4 と同じ\n",
        "# formatメソッドを使うと、int型をstr型に変えるといった煩わしさがなくなる\n",
        "\n",
        "for i in range(5):\n",
        "    print('Hello World {}'.format(i))\n"
      ]
    },
    {
      "cell_type": "code",
      "execution_count": null,
      "metadata": {
        "id": "kJwn3qKwK_As"
      },
      "outputs": [],
      "source": [
        "# リストを使った繰り返し\n",
        "# テストの結果を リスト result に代入し、\n",
        "# 先程定義した display_grade(grading()) にループで代入する\n",
        "\n",
        "result = [95, 76, 56, 92, 62, 65, 74]\n",
        "\n",
        "for i in result:\n",
        "    display_grade(grading(i))"
      ]
    },
    {
      "cell_type": "code",
      "execution_count": null,
      "metadata": {
        "id": "v6akwRdvK_As"
      },
      "outputs": [],
      "source": [
        "# ディクショナリを使った繰り返し\n",
        "# 先程使った header の情報を出力する\n",
        "\n",
        "for key, value in header.items():\n",
        "    print('{} is {}'.format(key, value))"
      ]
    },
    {
      "cell_type": "markdown",
      "metadata": {
        "id": "DWOKI9lWK_As"
      },
      "source": [
        "## 練習問題\n",
        "- あなたは摂食障害の患者さんの受け持ちになりました。毎週、BMIを計算して指導医に報告する必要があります。\n",
        "\n",
        "- 以下を行ってください。\n",
        "    - def を使って、身長(cm) と 体重(kg) が与えられた時に、BMIを算出する関数 calc_bmi を定義してください。\n",
        "        - return に b を指定してください\n",
        "        - BMI は 体重(kg) / (身長(m)の2乗) で求められます\n",
        "\n",
        "- input 関数を使って、身長を cm で入力させ、プログラムで m に変換させてください\n",
        "- 同様に input 関数を使って、体重を kg で入力させてください\n",
        "- 「BMIは ○○ です」と表示させてください\n"
      ]
    },
    {
      "cell_type": "code",
      "execution_count": null,
      "metadata": {
        "id": "qo-tXi94K_As"
      },
      "outputs": [],
      "source": [
        "# ヒント\n",
        "# 関数の定義\n",
        "#   def calc_bmi(ht,bw):  で、身長と体重からBMIを求める関数を定義します\n",
        "#   BMIを bmi とすると、bmi = bw / (ht ** 2) と表示されます\n",
        "#\n",
        "\n",
        "#### 以下に関数を3行で記載してください ####\n",
        "def\n",
        "\n",
        "\n",
        "#### 関数ここまで ##############\n",
        "\n",
        "\n",
        "# 以下で、身長と体重をキーボードから入力できるようにしてください\n",
        "ht = input()\n",
        "bw = input()\n",
        "\n",
        "# 以下で、ht と bw を float に変換し、htは cm → m に変換してください\n",
        "ht =\n",
        "bw =\n",
        "\n",
        "# 以下で、 bmi を算出し、BMIを表示してください。\n",
        "bmi =\n",
        "print()\n",
        "#################################\n",
        "\n",
        "\n",
        "# 正解例は ex_answer.ipynb を見てみてください"
      ]
    }
  ],
  "metadata": {
    "kernelspec": {
      "display_name": "Python 3 (ipykernel)",
      "language": "python",
      "name": "python3"
    },
    "language_info": {
      "codemirror_mode": {
        "name": "ipython",
        "version": 3
      },
      "file_extension": ".py",
      "mimetype": "text/x-python",
      "name": "python",
      "nbconvert_exporter": "python",
      "pygments_lexer": "ipython3",
      "version": "3.10.8"
    },
    "colab": {
      "provenance": [],
      "include_colab_link": true
    }
  },
  "nbformat": 4,
  "nbformat_minor": 0
}