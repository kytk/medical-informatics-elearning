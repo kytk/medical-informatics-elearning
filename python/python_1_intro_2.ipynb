{
  "cells": [
    {
      "cell_type": "markdown",
      "metadata": {
        "colab_type": "text",
        "id": "view-in-github"
      },
      "source": [
        "<a href=\"https://colab.research.google.com/github/kytk/neuroimaging-elearning/blob/main/python/python_1-1_intro.ipynb\" target=\"_parent\"><img src=\"https://colab.research.google.com/assets/colab-badge.svg\" alt=\"Open In Colab\"/></a>"
      ]
    },
    {
      "cell_type": "markdown",
      "metadata": {
        "id": "jw3ke1Y2K_Ab"
      },
      "source": [
        "# 脳画像解析のためのPython入門(全5回): Part 2\n",
        "\n",
        "Ver.20230925"
      ]
    },
    {
      "cell_type": "markdown",
      "metadata": {
        "id": "2KftFTyuK_Ad"
      },
      "source": [
        "## 目次\n",
        "5. 文字列の結合\n",
        "6. リスト （配列）\n",
        "7. インデックス\n",
        "8. スライシング\n"
      ]
    },
    {
      "cell_type": "markdown",
      "metadata": {
        "id": "siB-awWgK_Ah"
      },
      "source": [
        "## 5. 文字列の結合\n",
        "- 文字列は、\"+\" で結合できる。\n",
        "- str型以外の型ととstr型を結合したいときには、他の型をstr型に変換する\n",
        "- f文を使うと、変数を簡単に表示できる\n",
        "- 文字列は、\"*\" で複数回繰り返すことができる"
      ]
    },
    {
      "cell_type": "code",
      "execution_count": null,
      "metadata": {
        "id": "od9oddhqK_Ah"
      },
      "outputs": [],
      "source": [
        "# MRI という文字列を str1 に代入\n",
        "str1 = 'MRI'"
      ]
    },
    {
      "cell_type": "code",
      "execution_count": null,
      "metadata": {
        "id": "HvzgDRy9K_Ah"
      },
      "outputs": [],
      "source": [
        "# functional という単語と str1 を結合\n",
        "print('functional ' + str1)"
      ]
    },
    {
      "cell_type": "code",
      "execution_count": null,
      "metadata": {
        "id": "DHAJSraeK_Ah"
      },
      "outputs": [],
      "source": [
        "# price という変数に 200000 を代入\n",
        "price = 200000"
      ]
    },
    {
      "cell_type": "code",
      "execution_count": null,
      "metadata": {
        "id": "_R-pl9-oK_Ah",
        "scrolled": true
      },
      "outputs": [],
      "source": [
        "# 'This PC costs 200000 yen.' と表示したいが、そのまま + ではエラーになる\n",
        "# エラーに着目\n",
        "# TypeError: can only concatenate str (not \"int\") to str\n",
        "# 型エラー: str型はstr型にしか結合(concatenate)できない。int型は結合できない　というメッセージ\n",
        "\n",
        "print('This PC costs ' + price + 'yen.')"
      ]
    },
    {
      "cell_type": "code",
      "execution_count": null,
      "metadata": {
        "id": "EFC2kK5zK_Ah"
      },
      "outputs": [],
      "source": [
        "# str(year) とすることで、変数year がstr型になって、結合できる\n",
        "print('This PC costs ' + str(price) + ' yen.')"
      ]
    },
    {
      "cell_type": "code",
      "execution_count": null,
      "metadata": {
        "id": "0HxnfmjEt8t7"
      },
      "outputs": [],
      "source": [
        "# + を使わず , でつなげれば表示できる\n",
        "print('This PC costs' , price, 'yen.')"
      ]
    },
    {
      "cell_type": "code",
      "execution_count": null,
      "metadata": {
        "id": "vzz-jr16K_Ao"
      },
      "outputs": [],
      "source": [
        "# f文字列を使うと、変数の扱いが簡単になる (python 3.6で導入された機能)\n",
        "# f''の中に変数が出現する場所を {変数} で示すだけ\n",
        "print(f'This PC costs {price} yen.')"
      ]
    },
    {
      "cell_type": "code",
      "execution_count": null,
      "metadata": {
        "id": "q_sCNy_fK_Ao"
      },
      "outputs": [],
      "source": [
        "# アンコール! を3回表示する\n",
        "print('アンコール!' *3)"
      ]
    },
    {
      "cell_type": "markdown",
      "metadata": {
        "id": "BEwRGGdjdcKo"
      },
      "source": [
        "### 5.1. ミニテスト\n",
        "\n",
        "- f文字列は、計算結果を入れることもできます。以下を試してみましょう。\n",
        "- ある商品は税抜き800円です。これに消費税率10%を加えた税込み価格を表示したいです。\n",
        "\n",
        "- price_without_tax という変数に800を代入してください。\n",
        "- これに10%の消費税を加えた値を price_with_tax として代入してください。\n",
        "\n",
        "- 最後にf文字列と変数 price_with_tax を使って、「この商品は税込み880円です。」と表示してください。"
      ]
    },
    {
      "cell_type": "code",
      "execution_count": null,
      "metadata": {
        "id": "_bf3QDL1dbHc"
      },
      "outputs": [],
      "source": [
        "# price_without_tax に 800 を代入\n",
        "\n",
        "# pice_with_tax は price_without_tax に 1.1 をかけたもの を int型に変換（今は小数点切り捨てとする）\n",
        "\n",
        "# f文字列で表示\n",
        "print(f'')"
      ]
    },
    {
      "cell_type": "code",
      "execution_count": null,
      "metadata": {
        "id": "DXFM-0kSxI7D"
      },
      "outputs": [],
      "source": [
        "#回答例\n",
        "# price_without_tax に 800 を代入\n",
        "price_without_tax = 800\n",
        "# pice_with_tax は price_without_tax に 1.1 をかけたもの を int型に変換（今は小数点切り捨てとする）\n",
        "price_with_tax = int(price_without_tax * 1.1)\n",
        "# f文字列で表示\n",
        "print(f'この商品は税込み{price_with_tax}円です。')"
      ]
    },
    {
      "cell_type": "markdown",
      "metadata": {
        "id": "Rim1yyXKK_Ap"
      },
      "source": [
        "## 6. リスト （配列）\n",
        "- Pythonでは、変数に単一の数値だけでなく、リストとしてデータをまとめることができる\n",
        "- リストは、[ ] を使って記載する\n",
        "- Pythonでは、複数の要素を記載する際は必ずカンマを利用する"
      ]
    },
    {
      "cell_type": "code",
      "execution_count": null,
      "metadata": {
        "id": "FZtVlTyvK_Ap"
      },
      "outputs": [],
      "source": [
        "# リストの作成\n",
        "a = [1, 2, 3, 4, 5]"
      ]
    },
    {
      "cell_type": "code",
      "execution_count": null,
      "metadata": {
        "id": "JRtCPpPoK_Ap"
      },
      "outputs": [],
      "source": [
        "# リストを表示する\n",
        "a"
      ]
    },
    {
      "cell_type": "code",
      "execution_count": null,
      "metadata": {
        "id": "lZpLkx4xK_Ap"
      },
      "outputs": [],
      "source": [
        "# type() 関数を使って型を確認する\n",
        "type(a)"
      ]
    },
    {
      "cell_type": "code",
      "execution_count": null,
      "metadata": {
        "id": "7YLKTi-BK_Ap"
      },
      "outputs": [],
      "source": [
        "# len() 関数を使って、リストの要素数を表示する\n",
        "len(a)"
      ]
    },
    {
      "cell_type": "code",
      "execution_count": null,
      "metadata": {
        "id": "zWpZvqB3K_Ap"
      },
      "outputs": [],
      "source": [
        "# appendメソッド を使うと、リストに値を追加できる\n",
        "a.append(6) # リストに6を追加\n",
        "print(a)"
      ]
    },
    {
      "cell_type": "markdown",
      "metadata": {
        "id": "c3W2BlL8K_Ap"
      },
      "source": [
        "## 7. インデックス\n",
        "- リストの要素にアクセスするには、インデックスを使用する\n",
        "- Pythonでは、**インデックスは 0 から始まる**\n",
        "- `a[1]` は、リスト a の2番めの要素を意味する\n",
        "- インデックス -1 は、最後の値を示す\n",
        "- インデックスを使用すると、個別に要素を変更できる。このように要素を変更できることを「**ミュータブル**」という"
      ]
    },
    {
      "cell_type": "code",
      "execution_count": null,
      "metadata": {
        "id": "zcRn2nvMK_Ap"
      },
      "outputs": [],
      "source": [
        "a[1]"
      ]
    },
    {
      "cell_type": "code",
      "execution_count": null,
      "metadata": {
        "id": "WwMexNazK_Ap"
      },
      "outputs": [],
      "source": [
        "# a[-1] は、今の場合、a[5] と同じ意味\n",
        "a[-1]"
      ]
    },
    {
      "cell_type": "code",
      "execution_count": null,
      "metadata": {
        "id": "-SgP8cZ_K_Ap"
      },
      "outputs": [],
      "source": [
        "# リストa の5番目の要素を99に変更する\n",
        "a[4] = 99"
      ]
    },
    {
      "cell_type": "code",
      "execution_count": null,
      "metadata": {
        "id": "UUGyJihoK_Ap"
      },
      "outputs": [],
      "source": [
        "# a を表示する\n",
        "print(a)"
      ]
    },
    {
      "cell_type": "markdown",
      "metadata": {
        "id": "0cvYH-jVK_Ap"
      },
      "source": [
        "## 8. スライシング\n",
        "- Pythonでは、スライシングという方法を使って、リストの中の複数の値を取り出すことができる\n",
        "- スライシングは[最初のインデックス:最後のインデックス]のように表現し、その間の要素が表示される\n",
        "- スライシングは以下のように、インデックスを見るとわかりやすい\n",
        "\n",
        "```\n",
        "       | n | e | u | r | o | n |\n",
        "       +   +   +   +   +   +   +\n",
        "index  0   1   2   3   4   5   6    \n",
        "      -6  -5  -4  -3  -2  -1\n",
        " ```\n",
        "\n",
        " - [0:3] はインデックス0**以上**3**未満**と覚えるのもひとつ"
      ]
    },
    {
      "cell_type": "code",
      "execution_count": null,
      "metadata": {
        "id": "6xtPHDHLK_Ap"
      },
      "outputs": [],
      "source": [
        "# n e u r o n をリストとして変数 b に代入\n",
        "b = ['n', 'e', 'u', 'r', 'o', 'n']\n",
        "# bを表示\n",
        "b"
      ]
    },
    {
      "cell_type": "code",
      "execution_count": null,
      "metadata": {
        "id": "iA7fEnVWK_Aq"
      },
      "outputs": [],
      "source": [
        "# b[0:2] は、インデックス0とインデックス2の間にある要素が表示される\n",
        "# インデックス0以上2未満と考えると0と1\n",
        "# 今の場合は n と e になる\n",
        "b[0:2]"
      ]
    },
    {
      "cell_type": "code",
      "execution_count": null,
      "metadata": {
        "id": "I-Vnby1EK_Aq"
      },
      "outputs": [],
      "source": [
        "# b[1:] のように、最初のインデックスだけ指定すると、そこから最後まで表示される\n",
        "# 今の場合は e u r o n となる\n",
        "b[1:]"
      ]
    },
    {
      "cell_type": "code",
      "execution_count": null,
      "metadata": {
        "id": "ziexZ7bbK_Aq"
      },
      "outputs": [],
      "source": [
        "# b[:3] のように、最後のインデックスだけ指定すると、最初からそのインデックスの前まで表示される\n",
        "# インデックスが3未満なので 0, 1, 2 の3つ\n",
        "# 今の場合は n e u となる\n",
        "b[:3]"
      ]
    },
    {
      "cell_type": "code",
      "execution_count": null,
      "metadata": {
        "id": "LMOjpIkFK_Aq"
      },
      "outputs": [],
      "source": [
        "# b[:-1] は、今の場合は、b[:5] と同義\n",
        "b[:-1]"
      ]
    },
    {
      "cell_type": "code",
      "execution_count": null,
      "metadata": {
        "id": "5HmM0PNAK_Aq"
      },
      "outputs": [],
      "source": [
        "# b[:-2] は、今の場合は、b[:4] と同義\n",
        "b[:-2]"
      ]
    },
    {
      "cell_type": "markdown",
      "metadata": {
        "id": "wtJ6qwmjK_Aq"
      },
      "source": [
        "- 以上のスライシングは、str型に対しても行うことができる\n",
        "- 文字列の一部を抜き出したい時などに便利である"
      ]
    },
    {
      "cell_type": "code",
      "execution_count": null,
      "metadata": {
        "id": "rbb86UyiK_Aq"
      },
      "outputs": [],
      "source": [
        "# 文字列として neuron を 変数 c に代入\n",
        "c = 'neuron'\n",
        "# 変数 c　のインデックス0以上3未満、すなわち0,1,2を表示\n",
        "c[0:3]"
      ]
    },
    {
      "cell_type": "markdown",
      "metadata": {
        "id": "5ODT1ibjK_Aq"
      },
      "source": [
        "### 8.1. ミニテスト\n",
        "- 変数 date に 2030-12-31 という値が入っています。ここから、インデックスを使って変数 year, month, day を作ってください"
      ]
    },
    {
      "cell_type": "code",
      "execution_count": null,
      "metadata": {
        "id": "g6bF5FORK_Aq"
      },
      "outputs": [],
      "source": [
        "date = '2030-12-31'\n",
        "### 以下に解答を書いてください\n",
        "year =\n",
        "month =\n",
        "day ="
      ]
    },
    {
      "cell_type": "code",
      "execution_count": null,
      "metadata": {
        "id": "nwXkpjwhK_Aq"
      },
      "outputs": [],
      "source": [
        "# 2030 12 31 となったら正解\n",
        "print(year, month, day)"
      ]
    },
    {
      "cell_type": "code",
      "execution_count": null,
      "metadata": {
        "id": "gmttCiK1K_Aq"
      },
      "outputs": [],
      "source": [
        "# 正解\n",
        "date = '2030-12-31'\n",
        "# 2030-12-31 の year は4文字なので、インデックスは 0-3 0以上4未満となる\n",
        "year = date[0:4]\n",
        "# month のインデックスは、5と6なので、5以上7未満となる\n",
        "month = date[5:7]\n",
        "# date のインデックスは、8と9なので、8以上10未満となる\n",
        "day = date[8:10]\n",
        "\n",
        "print(year, month, day)"
      ]
    }
  ],
  "metadata": {
    "colab": {
      "include_colab_link": true,
      "provenance": []
    },
    "kernelspec": {
      "display_name": "Python 3 (ipykernel)",
      "language": "python",
      "name": "python3"
    },
    "language_info": {
      "codemirror_mode": {
        "name": "ipython",
        "version": 3
      },
      "file_extension": ".py",
      "mimetype": "text/x-python",
      "name": "python",
      "nbconvert_exporter": "python",
      "pygments_lexer": "ipython3",
      "version": "3.10.8"
    }
  },
  "nbformat": 4,
  "nbformat_minor": 0
}
